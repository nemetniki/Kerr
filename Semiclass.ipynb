{
 "cells": [
  {
   "cell_type": "code",
   "execution_count": 1,
   "metadata": {
    "collapsed": true
   },
   "outputs": [],
   "source": [
    "#%matplotlib inline\n",
    "\n",
    "from pylab import *\n",
    "import numpy as np\n",
    "import matplotlib as mpl\n",
    "import matplotlib.pyplot as plt\n",
    "from __future__ import print_function\n",
    "from ipywidgets import interact, interactive, fixed, interact_manual\n",
    "import ipywidgets as widgets\n",
    "from IPython.display import display\n",
    "from scipy.optimize import fsolve\n",
    "\n",
    "mpl.rcParams['mathtext.fontset'] = 'cm'\n",
    "mpl.rcParams['mathtext.rm'] = 'serif'\n",
    "mpl.rc('font',family='FreeSerif')\n",
    "mpl.rc('xtick',labelsize=30)\n",
    "mpl.rc('ytick',labelsize=30)\n",
    "\n",
    "### Linestyles ###\n",
    "colors={'red':(241/255.,88/255.,84/255.),\\\n",
    "        'orange':(250/255,164/255.,58/255.),\\\n",
    "        'pink':(241/255,124/255.,176/255.),\\\n",
    "        'brown':(178/255,145/255.,47/255.),\\\n",
    "        'purple':(178/255,118/255.,178/255.),\\\n",
    "        'green':(96/255,189/255.,104/255.),\\\n",
    "        'blue':(93/255,165/255.,218/255.),\\\n",
    "        'yellow':(222/255., 207/255., 63/255),\\\n",
    "        'black':(0.,0.,0.)}\n",
    "collab = ['brown','green','blue','pink','black']\n",
    "linewidth = [2,2,3,3,4]\n",
    "linestyle = ['solid','dashed','dashdot','dotted','solid']"
   ]
  },
  {
   "cell_type": "code",
   "execution_count": 9,
   "metadata": {},
   "outputs": [
    {
     "ename": "TypeError",
     "evalue": "squeez() missing 2 required positional arguments: 'al0r0' and 'al0i0'",
     "output_type": "error",
     "traceback": [
      "\u001b[0;31m---------------------------------------------------------------------------\u001b[0m",
      "\u001b[0;31mTypeError\u001b[0m                                 Traceback (most recent call last)",
      "\u001b[0;32m<ipython-input-9-e72c55922eb9>\u001b[0m in \u001b[0;36m<module>\u001b[0;34m()\u001b[0m\n\u001b[1;32m     49\u001b[0m     \u001b[0mplt\u001b[0m\u001b[0;34m.\u001b[0m\u001b[0mshow\u001b[0m\u001b[0;34m(\u001b[0m\u001b[0;34m)\u001b[0m\u001b[0;34m\u001b[0m\u001b[0m\n\u001b[1;32m     50\u001b[0m \u001b[0;34m\u001b[0m\u001b[0m\n\u001b[0;32m---> 51\u001b[0;31m \u001b[0msqueez\u001b[0m\u001b[0;34m(\u001b[0m\u001b[0;36m1\u001b[0m\u001b[0;34m,\u001b[0m\u001b[0;36m1\u001b[0m\u001b[0;34m,\u001b[0m\u001b[0;36m0\u001b[0m\u001b[0;34m,\u001b[0m\u001b[0;36m0\u001b[0m\u001b[0;34m,\u001b[0m\u001b[0;36m0\u001b[0m\u001b[0;34m,\u001b[0m\u001b[0;36m.5\u001b[0m\u001b[0;34m,\u001b[0m\u001b[0;34m-\u001b[0m\u001b[0;36m10\u001b[0m\u001b[0;34m,\u001b[0m\u001b[0;36m.0\u001b[0m\u001b[0;34m,\u001b[0m\u001b[0;36m0\u001b[0m\u001b[0;34m,\u001b[0m\u001b[0;36m1\u001b[0m\u001b[0;34m,\u001b[0m\u001b[0;36m0\u001b[0m\u001b[0;34m)\u001b[0m\u001b[0;34m\u001b[0m\u001b[0m\n\u001b[0m",
      "\u001b[0;31mTypeError\u001b[0m: squeez() missing 2 required positional arguments: 'al0r0' and 'al0i0'"
     ]
    }
   ],
   "source": [
    "def squeez(kap,kap1k,kap2k,L100,chipk,chippk,Delk,ktau,phipi,Ek,thetpi,al0r0,al0i0):\n",
    "    kap1  = kap1k*kap\n",
    "    kap2  = kap2k*kap\n",
    "    L     = L100/100.\n",
    "    k     = np.sqrt(2*kap1*kap2*(1-L))\n",
    "    chip  = chipk*kap\n",
    "    chipp = chippk*kap\n",
    "    Del   = Delk*kap\n",
    "    tau   = ktau/kap\n",
    "    phi   = phipi*np.pi\n",
    "    \n",
    "    #Determining the steady state solution\n",
    "    E     = Ek*kap\n",
    "    theta = thetpi*pi\n",
    "    def steadystate(al0):\n",
    "        al0r,al0i = al0\n",
    "        fr = -kap*al0r + Del*al0i - 2*(al0r**2+al0i**2)*(chip*al0r-chipp*al0i) - \\\n",
    "        k*( np.cos(phi)*al0r-np.sin(phi)*al0i )\n",
    "        fi = -kap*al0i - Del*al0r - 2*(al0r**2+al0i**2)*(chip*al0i+chipp*al0r) - E - \\\n",
    "        k*( np.cos(phi)*al0i+np.sin(phi)*al0r )\n",
    "        return fr,fi\n",
    "    al0r,al0i = fsolve(steadystate,(al0r0,al0i0))\n",
    "    print(np.abs(np.array(steadystate(np.array([al0r,al0i])))))\n",
    "    print(np.any(np.abs(np.array(steadystate(np.array([al0r,al0i]))))>10**(-8)))\n",
    "    if np.any(np.abs(np.array(steadystate(np.array([al0r,al0i]))))>10**(-8)):\n",
    "        al0r,al0i = fsolve(steadystate,(0,0))\n",
    "    print(steadystate(np.array([al0r,al0i])))\n",
    "    al0abs = np.sqrt(al0r**2+al0i**2)\n",
    "    print(al0abs)\n",
    "    psi   = np.arctan(al0i/al0r)*2\n",
    "    eps   = -2*(chip+1j*chipp)*(al0r**2+al0i**2) \n",
    "    \n",
    "    nu  = np.linspace(-40,40,10000)*2*np.pi\n",
    "    f2  = ( np.sqrt(2*kap1*(1-L))*np.exp(1j*(nu*tau+phi))+np.sqrt(2*kap2k) )/np.sqrt(2*kap)\n",
    "    f1  = ( np.sqrt(2*kap2*(1-L))*np.exp(1j*(nu*tau+phi))+np.sqrt(2*kap1k) )/np.sqrt(2*kap)\n",
    "    dp  = 2*np.conjugate(eps)-kap-k*np.exp(1j*(nu*tau-phi))+1j*(nu+Del)\n",
    "    dm  = 2*eps-kap-k*np.exp(1j*(nu*tau-phi))+1j*(nu+Del)\n",
    "    Lam = dp*dm - np.abs(eps)**2\n",
    "    M2  = 2*kap*f1*f2*dp + np.sqrt(1-L)*np.exp(1j*(nu*tau+phi))*Lam\n",
    "    N2  = np.sqrt(L)*( np.sqrt(4*kap*kap1)*f1*dp + Lam )\n",
    "    \n",
    "    spec = 1/np.abs(Lam)**2 * ( np.abs(M2)**2 + np.abs(N2)**2 + \\\n",
    "                               2*kap*np.abs(eps)**2*(2*kap*np.abs(f2)**2+2*kap1*L)*np.abs(f1)**2 -\\\n",
    "                               np.sqrt(2*kap)*2*np.real(eps*np.exp(1j*(psi-theta))*f1*\\\n",
    "                                                        (M2*np.sqrt(2*kap)*np.conjugate(f2)+np.sqrt(2*kap1*L)*N2)) )\n",
    "    logspec = 10*np.log10(spec)\n",
    "    \n",
    "    plt.figure(figsize = (10,6))\n",
    "    plt.grid(True)\n",
    "    plt.xlabel(\"$\\omega/2\\pi$\",fontsize=40)\n",
    "    plt.ylabel(\"$S_{out}$\",fontsize=40)\n",
    "    plt.plot(nu/2/np.pi,np.real(logspec))\n",
    "    plt.xlim(-20,20)\n",
    "    plt.show()\n",
    "    \n",
    "squeez(1,1,0,0,0,.5,-10,.0,0,1,0)"
   ]
  },
  {
   "cell_type": "code",
   "execution_count": 17,
   "metadata": {},
   "outputs": [
    {
     "data": {
      "application/vnd.jupyter.widget-view+json": {
       "model_id": "46f3716423424e8b849572e48b99513f"
      }
     },
     "metadata": {},
     "output_type": "display_data"
    },
    {
     "data": {
      "text/plain": [
       "<function __main__.squeez>"
      ]
     },
     "execution_count": 17,
     "metadata": {},
     "output_type": "execute_result"
    }
   ],
   "source": [
    "#interactive setup\n",
    "interact(squeez,kap=1.0,kap1k=0.958257569495584,kap2k=0.0417424305044160,L100=(0,100,1),chipk=0.0,\\\n",
    "             chippk=0.5,Delk=-10,ktau=(0.0,2.0,0.01),phipi=(0.0,2.0,0.001),\\\n",
    "             Ek=(0.0,20.0,0.1),thetpi=(0.0,2.0,0.01),al0r0=10.0,al0i0=10.0)\n",
    "#show sliders\n"
   ]
  },
  {
   "cell_type": "code",
   "execution_count": 16,
   "metadata": {},
   "outputs": [
    {
     "data": {
      "text/plain": [
       "[0.0417424305044160, 0.958257569495584]"
      ]
     },
     "execution_count": 16,
     "metadata": {},
     "output_type": "execute_result"
    }
   ],
   "source": [
    "import sympy as sym\n",
    "x=sym.symbols(\"x\")\n",
    "sym.solve(sym.sqrt((1-x)*x)-.2,x)"
   ]
  },
  {
   "cell_type": "markdown",
   "metadata": {},
   "source": [
    "## TEST"
   ]
  },
  {
   "cell_type": "code",
   "execution_count": 2,
   "metadata": {},
   "outputs": [
    {
     "data": {
      "application/vnd.jupyter.widget-view+json": {
       "model_id": "162dc432c4fa437584dfa0f719d0edaf",
       "version_major": 2,
       "version_minor": 0
      },
      "text/html": [
       "<p>Failed to display Jupyter Widget of type <code>interactive</code>.</p>\n",
       "<p>\n",
       "  If you're reading this message in Jupyter Notebook or JupyterLab, it may mean\n",
       "  that the widgets JavaScript is still loading. If this message persists, it\n",
       "  likely means that the widgets JavaScript library is either not installed or\n",
       "  not enabled. See the <a href=\"https://ipywidgets.readthedocs.io/en/stable/user_install.html\">Jupyter\n",
       "  Widgets Documentation</a> for setup instructions.\n",
       "</p>\n",
       "<p>\n",
       "  If you're reading this message in another notebook frontend (for example, a static\n",
       "  rendering on GitHub or <a href=\"https://nbviewer.jupyter.org/\">NBViewer</a>),\n",
       "  it may mean that your frontend doesn't currently support widgets.\n",
       "</p>\n"
      ],
      "text/plain": [
       "interactive(children=(IntSlider(value=5, description='n', max=10), Output()), _dom_classes=('widget-interact',))"
      ]
     },
     "metadata": {},
     "output_type": "display_data"
    },
    {
     "data": {
      "text/plain": [
       "<function __main__.f>"
      ]
     },
     "execution_count": 2,
     "metadata": {},
     "output_type": "execute_result"
    }
   ],
   "source": [
    "import matplotlib.pyplot as plt\n",
    "from ipywidgets import interact\n",
    "\n",
    "def f(n):\n",
    "    plt.plot([0,1,2],[0,1,n])\n",
    "    plt.show()\n",
    "interact(f,n=(0,10))"
   ]
  },
  {
   "cell_type": "code",
   "execution_count": null,
   "metadata": {
    "collapsed": true
   },
   "outputs": [],
   "source": []
  }
 ],
 "metadata": {
  "kernelspec": {
   "display_name": "Python [default]",
   "language": "python",
   "name": "python3"
  },
  "language_info": {
   "codemirror_mode": {
    "name": "ipython",
    "version": 3
   },
   "file_extension": ".py",
   "mimetype": "text/x-python",
   "name": "python",
   "nbconvert_exporter": "python",
   "pygments_lexer": "ipython3",
   "version": "3.5.4"
  }
 },
 "nbformat": 4,
 "nbformat_minor": 2
}
