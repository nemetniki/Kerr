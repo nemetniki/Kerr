{
 "cells": [
  {
   "cell_type": "code",
   "execution_count": 1,
   "metadata": {},
   "outputs": [],
   "source": [
    "%matplotlib inline\n",
    "import numpy as np\n",
    "import scipy as sc\n",
    "import matplotlib.pyplot as plt\n",
    "from scipy.linalg import svd\n",
    "import matplotlib as mpl\n",
    "import time\n",
    "import sys\n",
    "mpl.rcParams['mathtext.fontset'] = 'cm'\n",
    "mpl.rcParams['mathtext.rm'] = 'serif'\n",
    "mpl.rc('font',family='FreeSerif')\n",
    "mpl.rc('xtick',labelsize=30)\n",
    "mpl.rc('ytick',labelsize=30)\n",
    "\n",
    "### Linestyles ###\n",
    "colors={'red':(241/255.,88/255.,84/255.),\\\n",
    "        'orange':(250/255,164/255.,58/255.),\\\n",
    "        'pink':(241/255,124/255.,176/255.),\\\n",
    "        'brown':(178/255,145/255.,47/255.),\\\n",
    "        'purple':(178/255,118/255.,178/255.),\\\n",
    "        'green':(96/255,189/255.,104/255.),\\\n",
    "        'blue':(93/255,165/255.,218/255.),\\\n",
    "        'yellow':(222/255., 207/255., 63/255),\\\n",
    "        'black':(0.,0.,0.)}\n",
    "collab = ['brown','green','blue','pink','black']\n",
    "linewidth = [2,2,3,3,4]\n",
    "linestyle = ['solid','dashed','dashdot','dotted','solid']"
   ]
  },
  {
   "cell_type": "code",
   "execution_count": 7,
   "metadata": {},
   "outputs": [
    {
     "name": "stdout",
     "output_type": "stream",
     "text": [
      "5.316734313964844e-05\n",
      "0.00028252601623535156\n",
      "0.00024890899658203125\n",
      "0.0015232563018798828\n"
     ]
    }
   ],
   "source": [
    "import time\n",
    "a = np.arange(12).reshape(3,4)\n",
    "b = np.arange(45).reshape(3,5,3)\n",
    "c = np.arange(9).reshape(3,3)\n",
    "l = [0]*3\n",
    "l[0] = a\n",
    "l[1] = c\n",
    "l[2] = b\n",
    "np.einsum(\"jk,lmk->lmj\",np.einsum(\"ij,ik->jk\",a,c),b)\n",
    "start=time.time()\n",
    "np.einsum(\"jk,lmk->lmj\",np.einsum(\"ij,ik->jk\",a,c),b)\n",
    "time1 = time.time()-start\n",
    "print(time1)\n",
    "start2 = time.time()\n",
    "np.einsum(\"ij,ik,lmk->lmj\",a,c,b, optimize=\"optimal\")\n",
    "time2 = time.time()-start2\n",
    "print(time2)\n",
    "start3 = time.time()\n",
    "np.einsum(\"ij,ik,lmk->lmj\",a,c,b, optimize=True)\n",
    "time3 = time.time()-start3\n",
    "print(time3)\n",
    "start4 = time.time()\n",
    "np.einsum(\"ij,ik,lmk->lmj\",a,c,b, optimize=False)\n",
    "time4 = time.time()-start3\n",
    "print(time4)\n",
    "#print(np.einsum(\"ij,ik,lmk->lmj\",a,c,b,optimize=\"optimal\"))"
   ]
  },
  {
   "cell_type": "code",
   "execution_count": 2,
   "metadata": {},
   "outputs": [
    {
     "data": {
      "text/plain": [
       "'1.14.2'"
      ]
     },
     "execution_count": 2,
     "metadata": {},
     "output_type": "execute_result"
    }
   ],
   "source": [
    "np.version.version\n"
   ]
  },
  {
   "cell_type": "code",
   "execution_count": null,
   "metadata": {},
   "outputs": [],
   "source": []
  }
 ],
 "metadata": {
  "kernelspec": {
   "display_name": "Python 3",
   "language": "python",
   "name": "python3"
  },
  "language_info": {
   "codemirror_mode": {
    "name": "ipython",
    "version": 3
   },
   "file_extension": ".py",
   "mimetype": "text/x-python",
   "name": "python",
   "nbconvert_exporter": "python",
   "pygments_lexer": "ipython3",
   "version": "3.5.5"
  }
 },
 "nbformat": 4,
 "nbformat_minor": 2
}
