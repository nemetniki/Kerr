{
 "cells": [
  {
   "cell_type": "code",
   "execution_count": 1,
   "metadata": {},
   "outputs": [
    {
     "name": "stdout",
     "output_type": "stream",
     "text": [
      "(2,)\n",
      "(4,)\n",
      "20\n"
     ]
    },
    {
     "data": {
      "text/plain": [
       "[3, 4, 6]"
      ]
     },
     "execution_count": 1,
     "metadata": {},
     "output_type": "execute_result"
    }
   ],
   "source": [
    "import numpy as np\n",
    "a = np.zeros((3,4,5))\n",
    "print(np.array(a.shape[:2]).shape)\n",
    "c = np.array([1,2,3,4,5])\n",
    "print(np.concatenate((np.array(a.shape[:2]),np.array([1,2])),axis=0).shape)\n",
    "d = [1,2]\n",
    "shape = np.array(a.shape)\n",
    "print(np.prod(shape[d]))\n",
    "b = np.zeros(np.concatenate((a.shape[:2],np.array([np.prod(c[d]),])),axis=0))\n",
    "list(b.shape)"
   ]
  },
  {
   "cell_type": "code",
   "execution_count": 21,
   "metadata": {},
   "outputs": [
    {
     "name": "stdout",
     "output_type": "stream",
     "text": [
      "0j\n",
      "(2+0j)\n",
      "(6+0j)\n",
      "(12+0j)\n",
      "[0.+0.j 0.+0.j 2.+0.j 6.+0.j] [ 0.+0.j  0.+0.j  2.+0.j  6.+0.j 12.+0.j]\n"
     ]
    }
   ],
   "source": [
    "import numpy as np\n",
    "len_env = 5\n",
    "len_sys = 2*len_env-1\n",
    "# n_c and g2_c construction\n",
    "ncdiag = (np.linspace(0,len_sys-1,len_sys)/2.).astype(np.int64)\n",
    "nc     = np.diag(ncdiag)\n",
    "#print(\"nc\",nc)\n",
    "gcdiag = np.zeros(len_env,complex)\n",
    "for i in range(1,len_env):\n",
    "    gcdiag[i] = gcdiag[i-1]+2*(i-1)\n",
    "    print(gcdiag[i])\n",
    "print(gcdiag[:-1],gcdiag)\n",
    "g2c    = np.diag(np.sort(np.concatenate((gcdiag[:-1],gcdiag))))"
   ]
  },
  {
   "cell_type": "code",
   "execution_count": 37,
   "metadata": {},
   "outputs": [
    {
     "name": "stdout",
     "output_type": "stream",
     "text": [
      "[0.         1.         1.41421356 1.73205081 2.        ]\n",
      "[0. 1. 0. 0. 0.]\n"
     ]
    }
   ],
   "source": [
    "test = np.zeros(len_env)\n",
    "test[0] = 1.\n",
    "bval = np.sqrt(np.arange(0,len_env))\n",
    "print(bval)\n",
    "B = np.diag(bval[:-1],1)\n",
    "Bd = np.diag(bval[1:],-1)\n",
    "print(np.dot(Bd,test))\n"
   ]
  },
  {
   "cell_type": "code",
   "execution_count": 38,
   "metadata": {},
   "outputs": [
    {
     "name": "stdout",
     "output_type": "stream",
     "text": [
      "1\n",
      "2\n",
      "3\n"
     ]
    }
   ],
   "source": [
    "for i in range(1,4):\n",
    "    print(i)"
   ]
  },
  {
   "cell_type": "code",
   "execution_count": 39,
   "metadata": {},
   "outputs": [
    {
     "data": {
      "text/plain": [
       "[array([1, 2, 3, 4])]"
      ]
     },
     "execution_count": 39,
     "metadata": {},
     "output_type": "execute_result"
    }
   ],
   "source": [
    "[5-np.arange(4,0,-1)]"
   ]
  },
  {
   "cell_type": "code",
   "execution_count": 11,
   "metadata": {},
   "outputs": [
    {
     "name": "stdout",
     "output_type": "stream",
     "text": [
      "[1.]\n",
      "(3, 2, 2, 1) (3, 4)\n"
     ]
    },
    {
     "data": {
      "text/plain": [
       "array([[[[ True],\n",
       "         [ True]],\n",
       "\n",
       "        [[ True],\n",
       "         [ True]]],\n",
       "\n",
       "\n",
       "       [[[ True],\n",
       "         [ True]],\n",
       "\n",
       "        [[ True],\n",
       "         [ True]]],\n",
       "\n",
       "\n",
       "       [[[ True],\n",
       "         [ True]],\n",
       "\n",
       "        [[ True],\n",
       "         [ True]]]])"
      ]
     },
     "execution_count": 11,
     "metadata": {},
     "output_type": "execute_result"
    }
   ],
   "source": [
    "def UNMERGE(block,new_shape,merge_dims,where):\n",
    "\t\"\"\"Unmerging indices to provide a higher-rank tensor from block\n",
    "\tINPUT: the block for which the index-merging should be undone, the dimensions of the final block indices\n",
    "\ton the left and the right.\n",
    "\tOUTPUT: the obtained higher-rank tensor\"\"\"\n",
    "\n",
    "\tnew_block  = np.zeros(new_shape,complex)\n",
    "\tmerged     = block.shape[where[0]]\n",
    "\tnumber = len(where)\n",
    "\tidx_o = [slice(None)]*block.ndim\n",
    "\tidx_n = [slice(None)]*(len(new_shape))\n",
    "\t\t\n",
    "\tif number == 2:\n",
    "\t\tfor J in range(0,merged):\n",
    "\t\t\tidx_o[where[0]] = J\n",
    "\t\t\tidx_n[where[1]] = J%merge_dims[1]\n",
    "\t\t\tidx_n[where[0]] = int(J/merge_dims[1])\n",
    "\t\t\t\n",
    "\t\t\tnew_block[tuple(idx_n)] = block[tuple(idx_o)]\n",
    "\t\t\t\n",
    "\telif number == 3:\n",
    "\t\tfor J in range(0,merged):\n",
    "\t\t\tidx_o[where[0]] = J\n",
    "\t\t\tidx_n[where[2]] = J%merge_dims[2]\n",
    "\t\t\tidx_n[where[1]] = int(J/merge_dims[2])%merge_dims[1]\n",
    "\t\t\tidx_n[where[0]] = int(J/(merge_dims[1]*merge_dims[2]))\n",
    "\t\t\t\n",
    "\t\t\tnew_block[tuple(idx_n)] = block[tuple(idx_o)]\n",
    "\n",
    "\telif number == 4:\n",
    "\t\tfor J in range(0,merged):\n",
    "\t\t\tidx_o[where[0]] = J\n",
    "\t\t\tidx_n[where[3]] = J%merge_dims[3]\n",
    "\t\t\tidx_n[where[2]] = int(J/merge_dims[3])%merge_dims[2]\n",
    "\t\t\tidx_n[where[1]] = int(J/(merge_dims[3]*merge_dims[2]))%merge_dims[1]\n",
    "\t\t\tidx_n[where[0]] = int(J/(merge_dims[1]*merge_dims[2]*merge_dims[3]))\n",
    "\t\t\n",
    "\t\t\tnew_block[tuple(idx_n)] = block[tuple(idx_o)]\n",
    "\t\t\t\n",
    "\telif number == 5:\n",
    "\t\tfor J in range(0,merged):\n",
    "\t\t\tidx_o[where[0]] = J\n",
    "\t\t\tidx_n[where[4]] = J%merge_dims[4]\n",
    "\t\t\tidx_n[where[3]] = int(J/merge_dims[4])%merge_dims[3]\n",
    "\t\t\tidx_n[where[2]] = int(J/(merge_dims[4]*merge_dims[3]))%merge_dims[2]\n",
    "\t\t\tidx_n[where[1]] = int(J/(merge_dims[4]*merge_dims[2]*merge_dims[3]))%merge_dims[1]\n",
    "\t\t\tidx_n[where[0]] = int(J/(merge_dims[1]*merge_dims[2]*merge_dims[3]*merge_dims[4]))\n",
    "\t\t\n",
    "\t\t\tnew_block[tuple(idx_n)] = block[tuple(idx_o)]\n",
    "\t\t\t\n",
    "\treturn new_block\n",
    "\n",
    "a = np.array([1,2,3])\n",
    "b = np.array([3,4,5,6,7,8]).reshape((2,3))\n",
    "c = np.array([1,2,3,4,5,6]).reshape((3,2))\n",
    "e = np.ones(1)\n",
    "print(e)\n",
    "block_orig = np.einsum(\"a,bc,cd,e->abde\",a,b,c,e)\n",
    "block = block_orig.reshape((3,4))\n",
    "print(block_orig.shape,block.shape)\n",
    "\n",
    "new = UNMERGE(block, np.array([3,2,2,1]),np.array([2,2,1]),[1,2,3] )\n",
    "new==block_orig"
   ]
  },
  {
   "cell_type": "code",
   "execution_count": 40,
   "metadata": {},
   "outputs": [
    {
     "data": {
      "text/plain": [
       "[None, None, None, None, None]"
      ]
     },
     "execution_count": 40,
     "metadata": {},
     "output_type": "execute_result"
    }
   ],
   "source": [
    "[None]*5"
   ]
  },
  {
   "cell_type": "code",
   "execution_count": 47,
   "metadata": {},
   "outputs": [
    {
     "name": "stdout",
     "output_type": "stream",
     "text": [
      "(1, 3, 4, 5)\n",
      "[[[2. 2. 2. 2. 2.]\n",
      "  [2. 2. 2. 2. 2.]\n",
      "  [2. 2. 2. 2. 2.]\n",
      "  [2. 2. 2. 2. 2.]]\n",
      "\n",
      " [[2. 2. 2. 2. 2.]\n",
      "  [2. 2. 2. 2. 2.]\n",
      "  [2. 2. 2. 2. 2.]\n",
      "  [2. 2. 2. 2. 2.]]\n",
      "\n",
      " [[2. 2. 2. 2. 2.]\n",
      "  [2. 2. 2. 2. 2.]\n",
      "  [2. 2. 2. 2. 2.]\n",
      "  [2. 2. 2. 2. 2.]]]\n",
      "[[[[2. 2. 2. 2. 2.]\n",
      "   [2. 2. 2. 2. 2.]\n",
      "   [2. 2. 2. 2. 2.]\n",
      "   [2. 2. 2. 2. 2.]]\n",
      "\n",
      "  [[2. 2. 2. 2. 2.]\n",
      "   [2. 2. 2. 2. 2.]\n",
      "   [2. 2. 2. 2. 2.]\n",
      "   [2. 2. 2. 2. 2.]]\n",
      "\n",
      "  [[2. 2. 2. 2. 2.]\n",
      "   [2. 2. 2. 2. 2.]\n",
      "   [2. 2. 2. 2. 2.]\n",
      "   [2. 2. 2. 2. 2.]]]]\n"
     ]
    }
   ],
   "source": [
    "a=np.ones((3,4,5))*2\n",
    "d=np.tensordot(np.ones(1),a,axes=0)\n",
    "print(d.shape)\n",
    "print(a)\n",
    "print(d)\n"
   ]
  },
  {
   "cell_type": "code",
   "execution_count": null,
   "metadata": {},
   "outputs": [],
   "source": []
  }
 ],
 "metadata": {
  "kernelspec": {
   "display_name": "Python 3",
   "language": "python",
   "name": "python3"
  },
  "language_info": {
   "codemirror_mode": {
    "name": "ipython",
    "version": 3
   },
   "file_extension": ".py",
   "mimetype": "text/x-python",
   "name": "python",
   "nbconvert_exporter": "python",
   "pygments_lexer": "ipython3",
   "version": "3.5.6"
  }
 },
 "nbformat": 4,
 "nbformat_minor": 2
}
