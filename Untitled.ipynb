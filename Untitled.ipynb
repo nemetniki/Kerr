{
 "cells": [
  {
   "cell_type": "markdown",
   "metadata": {
    "collapsed": true
   },
   "source": [
    "# MPS code"
   ]
  },
  {
   "cell_type": "markdown",
   "metadata": {},
   "source": [
    "## 1. Hamiltonian in the rotating frame\n",
    "\n",
    "The system Hamiltonian:\n",
    "\n",
    "\\begin{align}\n",
    "\\hat{H}_S=\\hbar\\Delta_c\\hat{c}^\\dagger\\hat{c} + \\hbar\\Delta_e\\hat{\\sigma}_+\\hat{\\sigma}_-\n",
    "            +\\hbar g\\left(\\hat{c}^\\dagger\\hat{\\sigma}_-+\\hat{\\sigma}_+\\hat{c}\\right)\n",
    "            +\\frac{\\hbar\\Omega_c}{2}\\left(\\hat{c}+\\hat{c}^\\dagger\\right)\n",
    "            +\\frac{\\hbar\\Omega_e}{2}\\left(\\hat{\\sigma}_-+\\hat{\\sigma}_+\\right)\n",
    "\\end{align}\n",
    "\n",
    "The interaction with the environment with feedback:\n",
    "\n",
    "\\begin{align}\n",
    "\\hat{H}_{fb}(t)=-i\\hbar\\left\\{\\left[\\sqrt{\\gamma_R}\\hat{b}(t-\\tau)e^{-i\\phi}+\\sqrt{\\gamma_L}\\hat{b}(t)\\right]\\hat{c}^\\dagger-\\left[\\sqrt{\\gamma_R}\\hat{b}^\\dagger(t-\\tau)e^{i\\phi}+\\sqrt{\\gamma_L}\\hat{b}^\\dagger(t)\\right]\\hat{c}\\right\\}\n",
    "\\end{align}\n",
    "\n",
    "where the feedback phase is\n",
    "\\begin{align}\n",
    "\\phi=\\pi-\\omega_L\\tau\n",
    "\\end{align}\n",
    "\n",
    "The bath is originally Markovain with\n",
    "\\begin{align}\n",
    "\\left[\\hat{b}(t),\\hat{b}^\\dagger(t^\\prime)\\right]=\\delta(t-t^\\prime)\n",
    "\\end{align}\n"
   ]
  },
  {
   "cell_type": "markdown",
   "metadata": {},
   "source": [
    "## 2. Time-evolution\n",
    "\n",
    "\\begin{align}\n",
    "|\\Psi(t_{k+1})\\rangle=U(t_{k+1},t_k)|\\Psi(t_k)\\rangle\n",
    "\\end{align}\n",
    "\n",
    "with $\\Psi$ written as a Matrix Product State. The time-evolution operator can be expanded as\n",
    "\\begin{align}\n",
    "U(t_{k+1},t_k) &= \\exp{\\left[-\\frac{i}{\\hbar}\\left(H_S\\Delta t+\\int_{t_k}^{t_{k+1}}H_{fb}(t)dt\\right)\\right]}\\\\\n",
    "{\\bf U}&=\\exp{\\left({\\bf M}_S+{\\bf M}_B\\right)} = \\sum_{n=0}^\\infty\\frac{1}{n!}\\left({\\bf M}_S+{\\bf M}_B\\right)^n\n",
    "\\end{align}\n",
    "where $t_k=k\\Delta t$ and $\\Delta B(t_k) = \\int_{t_k}^{t_{k+1}}b(t)dt$. This means that\n",
    "\\begin{align}\n",
    "\\left[\\Delta B(t_k),\\Delta B^\\dagger(t_j)\\right] = \\Delta t \\delta_{k,j}\n",
    "\\end{align}\n",
    "\n",
    "Therefore the different orders of the expansion above are:\n",
    "\\begin{align}\n",
    "{\\bf U} &=\\mathbb{1}+\\color{red}{{\\bf M}_B}+\\color{orange}{{\\bf M}_S+\\frac{1}{2}{\\bf M}_B^2}+\n",
    "            \\color{green}{\\frac{1}{2}\\left({\\bf M}_S{\\bf M}_B+{\\bf M}_B{\\bf M}_S\\right)+\\frac{1}{6}{\\bf M}_B^3}+\n",
    "            \\color{blue}{\\frac{1}{2}{\\bf M}_S^2+\\frac{1}{6}\\left({\\bf M}_S{\\bf M}_B^2+{\\bf M}_B{\\bf M}_S{\\bf M}_B+{\\bf M}_B^2{\\bf M}_S\\right)+\\frac{1}{24}{\\bf M}_B^4}+\\mathcal{O}(\\Delta t^{5/2})\n",
    "\\end{align}\n",
    "This means that to first order we have:\n",
    "<img src='U_mat2.jpg'>"
   ]
  },
  {
   "cell_type": "markdown",
   "metadata": {},
   "source": [
    "## 3. Test case #1: no feedback, no driving\n",
    "Let us consider a TLS on a waveguide. We need up to 4 photons in the environment and a system vector with size 2. $\\gamma_R=0, \\Omega_{TLS}=0$\n",
    "<img src='U_mat_TLS.png'>"
   ]
  },
  {
   "cell_type": "code",
   "execution_count": 75,
   "metadata": {},
   "outputs": [
    {
     "name": "stdout",
     "output_type": "stream",
     "text": [
      "[ 0.  0.  0.  0.  0.]\n",
      "[ 0.  1.  0.  0.  0.]\n",
      "[[ 0.  1.]\n",
      " [ 0.  0.]]\n",
      "[[ 0.  0.]\n",
      " [ 1.  0.]]\n",
      "(array([[-1.+0.j,  0.+0.j],\n",
      "       [ 0.+0.j,  0.-1.j],\n",
      "       [ 0.+0.j,  0.+0.j],\n",
      "       [ 0.+0.j,  0.+0.j],\n",
      "       [ 0.+0.j,  0.+0.j]]), array([ 0.9       ,  0.31622777]), array([[-0.+0.j, -1.+0.j],\n",
      "       [-1.+0.j, -0.+0.j]]))\n",
      "[[-1.+0.j  0.+0.j]\n",
      " [ 0.+0.j  0.-1.j]\n",
      " [ 0.+0.j  0.+0.j]\n",
      " [ 0.+0.j  0.+0.j]\n",
      " [ 0.+0.j  0.+0.j]] \n",
      " [[ 0.00000000+0.j -0.90000000+0.j]\n",
      " [-0.31622777+0.j  0.00000000+0.j]]\n"
     ]
    }
   ],
   "source": [
    "%matplotlib inline\n",
    "import numpy as np\n",
    "import scipy as sc\n",
    "import matplotlib.pyplot as plt\n",
    "from scipy.linalg import svd\n",
    "\n",
    "#0=-3, 1=-2, 2=-1, 3=S, 4=0, 5=1 ... 20=16\n",
    "init = [0]*21\n",
    "l=3\n",
    "initTLS = np.array([0,1]) #starting at |e>\n",
    "\n",
    "gamma_L = 1.\n",
    "Om_TLS  = 0.\n",
    "Delta_T = 0.\n",
    "dt      = .1\n",
    "# Initial state\n",
    "for i in range(0,21):\n",
    "    if i==l:\n",
    "        init[i] = initTLS\n",
    "    else:\n",
    "        init[i] = np.array([1,0,0,0,0])\n",
    "\n",
    "def U(tk,tS,t): #tk: time bin state at k, tS: state of S\n",
    "    U_m      = sc.eye(tk.size,tk.size,1)*np.sqrt(np.arange(0,tk.size))\n",
    "    print(np.dot(U_m,tk))\n",
    "    U_p      = sc.eye(tk.size,tk.size,-1)*np.sqrt(np.arange(1,tk.size+1))\n",
    "    print(np.dot(U_p,tk))\n",
    "    sm       = sc.eye(2,2,1)\n",
    "    print(sm)\n",
    "    sp       = sc.eye(2,2,-1)\n",
    "    print(sp)\n",
    "    if t==0:\n",
    "        T_0      = np.tensordot(tS,tk,0) #identity operation\n",
    "        T_sqdt_1 = -1j*np.sqrt(dt)*np.tensordot(np.dot(sp,tS),np.dot(U_m,tk),0)*np.sqrt(gamma_L)\n",
    "        T_sqdt_2 = 1j*np.sqrt(dt)*np.tensordot(np.dot(sm,tS),np.dot(U_p,tk),0)*np.sqrt(gamma_L)\n",
    "        T_dt_S_1 = -1j*dt*Delta_T*np.tensordot(np.dot(np.array([[0,0],[0,1]]),tS),tk,0)\n",
    "        T_dt_S_2 = -1j*dt*Om_TLS*np.tensordot(np.dot(sp,tS),tk,0)\n",
    "        T_dt_S_3 = -1j*dt*Om_TLS*np.tensordot(np.dot(sm,tS),tk,0)\n",
    "        T_dt_B_1 = -gamma_L*dt*np.tensordot(np.dot(np.array([[0,0],[0,1]]),tS),np.arange(1,tk.size+1)*tk,0)\n",
    "        T_dt_B_2 = -gamma_L*dt*np.tensordot(np.dot(np.array([[1,0],[0,0]]),tS),np.arange(0,tk.size)*tk,0)\n",
    "        nextstep = T_0 + T_sqdt_1 + T_sqdt_2 + T_dt_S_1 + T_dt_S_2 + T_dt_S_3 + T_dt_B_1 + T_dt_B_2\n",
    "    return(nextstep)\n",
    "    \n",
    "together = U(init[4],init[3],0)\n",
    "tog_swap = np.einsum(\"ij->ji\",together)\n",
    "tog_svd  = svd(tog_swap,full_matrices=False)\n",
    "init[3] = tog_svd[0]\n",
    "init[4] = np.dot(np.diag(tog_svd[1]),tog_svd[2])\n"
   ]
  },
  {
   "cell_type": "code",
   "execution_count": 39,
   "metadata": {},
   "outputs": [
    {
     "name": "stdout",
     "output_type": "stream",
     "text": [
      "V\n",
      " [[ 0.          1.        ]\n",
      " [-0.4472136   0.        ]\n",
      " [-0.89442719  0.        ]] \n",
      "S\n",
      " [ 2.23606798  0.        ] \n",
      "W\n",
      " [[-0. -1.]\n",
      " [ 1.  0.]]\n",
      "\n",
      "res\n",
      " [[ 0.  0.]\n",
      " [ 0.  1.]\n",
      " [ 0.  2.]]\n",
      "[[0 0]\n",
      " [0 1]\n",
      " [0 2]]\n"
     ]
    }
   ],
   "source": [
    "from scipy.linalg import svd\n",
    "\n",
    "a = np.arange(0,3)\n",
    "b = np.arange(0,2)\n",
    "c = np.arange(0,3)\n",
    "\n",
    "prod = np.tensordot(a,b,axes=0)\n",
    "V,S,W = svd(prod,full_matrices=False)\n",
    "print(\"V\\n\",V,\"\\nS\\n\",S,\"\\nW\\n\",W)\n",
    "\n",
    "res3=res2.swapaxes(0,1)\n",
    "res4 = res3.reshape(b.size,a.size*c.size)\n",
    "AS,SS,Ar = svd(res4)\n",
    "#print(AS.shape,SS.shape,Ar.shape)\n",
    "A0,S0,A1 = svd(Ar)\n",
    "#print(A0,A1)\n",
    "print(\"\\nres\\n\",np.dot(np.dot(V,np.diag(S)),W))\n",
    "print(prod)"
   ]
  },
  {
   "cell_type": "code",
   "execution_count": 10,
   "metadata": {},
   "outputs": [
    {
     "name": "stdout",
     "output_type": "stream",
     "text": [
      "a\n",
      " [0 1 2] \n",
      "c\n",
      " [0 1 2]\n",
      "\n",
      "d\n",
      " [[0 0 0]\n",
      " [0 1 2]\n",
      " [0 2 4]]\n",
      "\n",
      "e\n",
      " [[[ 0  0  0]\n",
      "  [ 0  0  0]\n",
      "  [ 0  0  0]]\n",
      "\n",
      " [[ 0  0  0]\n",
      "  [ 0  2  4]\n",
      "  [ 0  4  8]]\n",
      "\n",
      " [[ 0  0  0]\n",
      "  [ 0  4  8]\n",
      "  [ 0  8 16]]]\n"
     ]
    },
    {
     "ename": "ValueError",
     "evalue": "invalid subscript '-' in einstein sum subscripts string, subscripts must be letters",
     "output_type": "error",
     "traceback": [
      "\u001b[0;31m---------------------------------------------------------------------------\u001b[0m",
      "\u001b[0;31mValueError\u001b[0m                                Traceback (most recent call last)",
      "\u001b[0;32m<ipython-input-10-86f000c4c575>\u001b[0m in \u001b[0;36m<module>\u001b[0;34m()\u001b[0m\n\u001b[1;32m      5\u001b[0m \u001b[0mprint\u001b[0m\u001b[0;34m(\u001b[0m\u001b[0;34m\"\\ne\\n\"\u001b[0m\u001b[0;34m,\u001b[0m\u001b[0me\u001b[0m\u001b[0;34m)\u001b[0m\u001b[0;34m\u001b[0m\u001b[0m\n\u001b[1;32m      6\u001b[0m \u001b[0;31m#np.einsum(\"ijk,jl\",e,d)\u001b[0m\u001b[0;34m\u001b[0m\u001b[0;34m\u001b[0m\u001b[0m\n\u001b[0;32m----> 7\u001b[0;31m \u001b[0mnp\u001b[0m\u001b[0;34m.\u001b[0m\u001b[0meinsum\u001b[0m\u001b[0;34m(\u001b[0m\u001b[0;34m\"i->i-1\"\u001b[0m\u001b[0;34m,\u001b[0m\u001b[0ma\u001b[0m\u001b[0;34m)\u001b[0m\u001b[0;34m\u001b[0m\u001b[0m\n\u001b[0m",
      "\u001b[0;32m~/Documents/anaconda3/lib/python3.5/site-packages/numpy/core/einsumfunc.py\u001b[0m in \u001b[0;36meinsum\u001b[0;34m(*operands, **kwargs)\u001b[0m\n\u001b[1;32m    946\u001b[0m     \u001b[0;31m# If no optimization, run pure einsum\u001b[0m\u001b[0;34m\u001b[0m\u001b[0;34m\u001b[0m\u001b[0m\n\u001b[1;32m    947\u001b[0m     \u001b[0;32mif\u001b[0m \u001b[0moptimize_arg\u001b[0m \u001b[0;32mis\u001b[0m \u001b[0;32mFalse\u001b[0m\u001b[0;34m:\u001b[0m\u001b[0;34m\u001b[0m\u001b[0m\n\u001b[0;32m--> 948\u001b[0;31m         \u001b[0;32mreturn\u001b[0m \u001b[0mc_einsum\u001b[0m\u001b[0;34m(\u001b[0m\u001b[0;34m*\u001b[0m\u001b[0moperands\u001b[0m\u001b[0;34m,\u001b[0m \u001b[0;34m**\u001b[0m\u001b[0mkwargs\u001b[0m\u001b[0;34m)\u001b[0m\u001b[0;34m\u001b[0m\u001b[0m\n\u001b[0m\u001b[1;32m    949\u001b[0m \u001b[0;34m\u001b[0m\u001b[0m\n\u001b[1;32m    950\u001b[0m     \u001b[0mvalid_einsum_kwargs\u001b[0m \u001b[0;34m=\u001b[0m \u001b[0;34m[\u001b[0m\u001b[0;34m'out'\u001b[0m\u001b[0;34m,\u001b[0m \u001b[0;34m'dtype'\u001b[0m\u001b[0;34m,\u001b[0m \u001b[0;34m'order'\u001b[0m\u001b[0;34m,\u001b[0m \u001b[0;34m'casting'\u001b[0m\u001b[0;34m]\u001b[0m\u001b[0;34m\u001b[0m\u001b[0m\n",
      "\u001b[0;31mValueError\u001b[0m: invalid subscript '-' in einstein sum subscripts string, subscripts must be letters"
     ]
    }
   ],
   "source": [
    "print(\"a\\n\",a,\"\\nc\\n\",c)\n",
    "d=np.tensordot(a,c,0)\n",
    "e=np.tensordot(np.tensordot(a,2*c,0),c,0)\n",
    "print(\"\\nd\\n\",d)\n",
    "print(\"\\ne\\n\",e)\n",
    "#np.einsum(\"ijk,jl\",e,d)\n",
    "np.einsum(\"i->i-1\",a)"
   ]
  },
  {
   "cell_type": "code",
   "execution_count": 12,
   "metadata": {},
   "outputs": [
    {
     "data": {
      "text/plain": [
       "array([[ 0.,  1.,  0.,  0.,  0.,  0.,  0.,  0.,  0.,  0.],\n",
       "       [ 0.,  0.,  1.,  0.,  0.,  0.,  0.,  0.,  0.,  0.],\n",
       "       [ 0.,  0.,  0.,  1.,  0.,  0.,  0.,  0.,  0.,  0.],\n",
       "       [ 0.,  0.,  0.,  0.,  1.,  0.,  0.,  0.,  0.,  0.],\n",
       "       [ 0.,  0.,  0.,  0.,  0.,  1.,  0.,  0.,  0.,  0.],\n",
       "       [ 0.,  0.,  0.,  0.,  0.,  0.,  1.,  0.,  0.,  0.],\n",
       "       [ 0.,  0.,  0.,  0.,  0.,  0.,  0.,  1.,  0.,  0.],\n",
       "       [ 0.,  0.,  0.,  0.,  0.,  0.,  0.,  0.,  1.,  0.],\n",
       "       [ 0.,  0.,  0.,  0.,  0.,  0.,  0.,  0.,  0.,  1.],\n",
       "       [ 0.,  0.,  0.,  0.,  0.,  0.,  0.,  0.,  0.,  0.]])"
      ]
     },
     "execution_count": 12,
     "metadata": {},
     "output_type": "execute_result"
    }
   ],
   "source": [
    "sc.eye(10,10,1)"
   ]
  },
  {
   "cell_type": "code",
   "execution_count": null,
   "metadata": {
    "collapsed": true
   },
   "outputs": [],
   "source": []
  }
 ],
 "metadata": {
  "kernelspec": {
   "display_name": "Python [default]",
   "language": "python",
   "name": "python3"
  },
  "language_info": {
   "codemirror_mode": {
    "name": "ipython",
    "version": 3
   },
   "file_extension": ".py",
   "mimetype": "text/x-python",
   "name": "python",
   "nbconvert_exporter": "python",
   "pygments_lexer": "ipython3",
   "version": "3.5.4"
  }
 },
 "nbformat": 4,
 "nbformat_minor": 2
}
