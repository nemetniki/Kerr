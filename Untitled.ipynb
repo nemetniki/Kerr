{
 "cells": [
  {
   "cell_type": "markdown",
   "metadata": {
    "collapsed": true
   },
   "source": [
    "# MPS code"
   ]
  },
  {
   "cell_type": "markdown",
   "metadata": {},
   "source": [
    "## 1. Hamiltonian in the rotating frame\n",
    "\n",
    "The system Hamiltonian:\n",
    "\n",
    "\\begin{align}\n",
    "\\hat{H}_S=\\hbar\\Delta_c\\hat{c}^\\dagger\\hat{c} + \\hbar\\Delta_e\\hat{\\sigma}_+\\hat{\\sigma}_-\n",
    "            +\\hbar g\\left(\\hat{c}^\\dagger\\hat{\\sigma}_-+\\hat{\\sigma}_+\\hat{c}\\right)\n",
    "            +\\frac{\\hbar\\Omega_c}{2}\\left(\\hat{c}+\\hat{c}^\\dagger\\right)\n",
    "            +\\frac{\\hbar\\Omega_e}{2}\\left(\\hat{\\sigma}_-+\\hat{\\sigma}_+\\right)\n",
    "\\end{align}\n",
    "\n",
    "The interaction with the environment with feedback:\n",
    "\n",
    "\\begin{align}\n",
    "\\hat{H}_{fb}(t)=-i\\hbar\\left\\{\\left[\\sqrt{\\gamma_R}\\hat{b}(t-\\tau)e^{-i\\phi}+\\sqrt{\\gamma_L}\\hat{b}(t)\\right]\\hat{c}^\\dagger-\\left[\\sqrt{\\gamma_R}\\hat{b}^\\dagger(t-\\tau)e^{i\\phi}+\\sqrt{\\gamma_L}\\hat{b}^\\dagger(t)\\right]\\hat{c}\\right\\}\n",
    "\\end{align}\n",
    "\n",
    "where the feedback phase is\n",
    "\\begin{align}\n",
    "\\phi=\\pi-\\omega_L\\tau\n",
    "\\end{align}\n",
    "\n",
    "The bath is originally Markovain with\n",
    "\\begin{align}\n",
    "\\left[\\hat{b}(t),\\hat{b}^\\dagger(t^\\prime)\\right]=\\delta(t-t^\\prime)\n",
    "\\end{align}\n"
   ]
  },
  {
   "cell_type": "markdown",
   "metadata": {},
   "source": [
    "## 2. Time-evolution\n",
    "\n",
    "\\begin{align}\n",
    "|\\Psi(t_{k+1})\\rangle=U(t_{k+1},t_k)|\\Psi(t_k)\\rangle\n",
    "\\end{align}\n",
    "\n",
    "with $\\Psi$ written as a Matrix Product State. The time-evolution operator can be expanded as\n",
    "\\begin{align}\n",
    "U(t_{k+1},t_k) &= \\exp{\\left[-\\frac{i}{\\hbar}\\left(H_S\\Delta t+\\int_{t_k}^{t_{k+1}}H_{fb}(t)dt\\right)\\right]}\\\\\n",
    "{\\bf U}&=\\exp{\\left({\\bf M}_S+{\\bf M}_B\\right)} = \\sum_{n=0}^\\infty\\frac{1}{n!}\\left({\\bf M}_S+{\\bf M}_B\\right)^n\n",
    "\\end{align}\n",
    "where $t_k=k\\Delta t$ and $\\Delta B(t_k) = \\int_{t_k}^{t_{k+1}}b(t)dt$. This means that\n",
    "\\begin{align}\n",
    "\\left[\\Delta B(t_k),\\Delta B^\\dagger(t_j)\\right] = \\Delta t \\delta_{k,j}\n",
    "\\end{align}\n",
    "\n",
    "Therefore the different orders of the expansion above are:\n",
    "\\begin{align}\n",
    "{\\bf U} &=\\mathbb{1}+\\color{red}{{\\bf M}_B}+\\color{orange}{{\\bf M}_S+\\frac{1}{2}{\\bf M}_B^2}+\n",
    "            \\color{green}{\\frac{1}{2}\\left({\\bf M}_S{\\bf M}_B+{\\bf M}_B{\\bf M}_S\\right)+\\frac{1}{6}{\\bf M}_B^3}+\n",
    "            \\color{blue}{\\frac{1}{2}{\\bf M}_S^2+\\frac{1}{6}\\left({\\bf M}_S{\\bf M}_B^2+{\\bf M}_B{\\bf M}_S{\\bf M}_B+{\\bf M}_B^2{\\bf M}_S\\right)+\\frac{1}{24}{\\bf M}_B^4}+\\mathcal{O}(\\Delta t^{5/2})\n",
    "\\end{align}\n",
    "This means that to first order we have:\n",
    "<img src='U_mat2.jpg'>"
   ]
  },
  {
   "cell_type": "markdown",
   "metadata": {},
   "source": [
    "## 3. Test case #1: no feedback, no driving\n",
    "Let us consider up to 4 photons in the environment and up to 4 excitations in the system."
   ]
  },
  {
   "cell_type": "code",
   "execution_count": 1,
   "metadata": {},
   "outputs": [
    {
     "ename": "ValueError",
     "evalue": "cannot reshape array of size 45 into shape (225,)",
     "output_type": "error",
     "traceback": [
      "\u001b[0;31m---------------------------------------------------------------------------\u001b[0m",
      "\u001b[0;31mValueError\u001b[0m                                Traceback (most recent call last)",
      "\u001b[0;32m<ipython-input-1-c526260f783a>\u001b[0m in \u001b[0;36m<module>\u001b[0;34m()\u001b[0m\n\u001b[1;32m     11\u001b[0m \u001b[0;32mfor\u001b[0m \u001b[0mn\u001b[0m \u001b[0;32min\u001b[0m \u001b[0mrange\u001b[0m\u001b[0;34m(\u001b[0m\u001b[0;36m0\u001b[0m\u001b[0;34m,\u001b[0m\u001b[0;36m10\u001b[0m\u001b[0;34m)\u001b[0m\u001b[0;34m:\u001b[0m\u001b[0;34m\u001b[0m\u001b[0m\n\u001b[1;32m     12\u001b[0m     \u001b[0mlength\u001b[0m  \u001b[0;34m=\u001b[0m \u001b[0minitenv\u001b[0m\u001b[0;34m.\u001b[0m\u001b[0msize\u001b[0m\u001b[0;34m**\u001b[0m\u001b[0;34m(\u001b[0m\u001b[0mn\u001b[0m\u001b[0;34m+\u001b[0m\u001b[0;36m1\u001b[0m\u001b[0;34m)\u001b[0m\u001b[0;34m*\u001b[0m\u001b[0minitsys\u001b[0m\u001b[0;34m.\u001b[0m\u001b[0msize\u001b[0m\u001b[0;34m\u001b[0m\u001b[0m\n\u001b[0;32m---> 13\u001b[0;31m     \u001b[0minitvec\u001b[0m \u001b[0;34m=\u001b[0m \u001b[0minitial\u001b[0m\u001b[0;34m.\u001b[0m\u001b[0mreshape\u001b[0m\u001b[0;34m(\u001b[0m\u001b[0mlength\u001b[0m\u001b[0;34m)\u001b[0m\u001b[0;34m\u001b[0m\u001b[0m\n\u001b[0m\u001b[1;32m     14\u001b[0m     \u001b[0mUmat\u001b[0m    \u001b[0;34m=\u001b[0m \u001b[0mnp\u001b[0m\u001b[0;34m.\u001b[0m\u001b[0mdiag\u001b[0m\u001b[0;34m(\u001b[0m\u001b[0mnp\u001b[0m\u001b[0;34m.\u001b[0m\u001b[0mones\u001b[0m\u001b[0;34m(\u001b[0m\u001b[0mlength\u001b[0m\u001b[0;34m)\u001b[0m\u001b[0;34m)\u001b[0m\u001b[0;34m\u001b[0m\u001b[0m\n\u001b[1;32m     15\u001b[0m     \u001b[0mendvec\u001b[0m  \u001b[0;34m=\u001b[0m \u001b[0mnp\u001b[0m\u001b[0;34m.\u001b[0m\u001b[0mdot\u001b[0m\u001b[0;34m(\u001b[0m\u001b[0mUmat\u001b[0m\u001b[0;34m,\u001b[0m\u001b[0minitvec\u001b[0m\u001b[0;34m)\u001b[0m\u001b[0;34m\u001b[0m\u001b[0m\n",
      "\u001b[0;31mValueError\u001b[0m: cannot reshape array of size 45 into shape (225,)"
     ]
    }
   ],
   "source": [
    "%matplotlib inline\n",
    "import numpy as np\n",
    "import scipy as sc\n",
    "import matplotlib.pyplot as plt\n",
    "\n",
    "initenv = np.array([1,0,0,0,0])\n",
    "initsys = np.array([0,0,0,1,0,0,0,0,0]) #starting at |1>|e>\n",
    "initial=np.tensordot(initenv,initsys,axes=0)\n",
    "#print(initial)\n",
    "i=0\n",
    "for n in range(0,10):\n",
    "    length  = initenv.size**(n+1)*initsys.size\n",
    "    initvec = initial.reshape(length)\n",
    "    Umat    = np.diag(np.ones(length))\n",
    "    endvec  = np.dot(Umat,initvec)\n",
    "endvec"
   ]
  },
  {
   "cell_type": "code",
   "execution_count": 52,
   "metadata": {},
   "outputs": [
    {
     "ename": "AttributeError",
     "evalue": "module 'scipy' has no attribute 'linalg'",
     "output_type": "error",
     "traceback": [
      "\u001b[0;31m---------------------------------------------------------------------------\u001b[0m",
      "\u001b[0;31mAttributeError\u001b[0m                            Traceback (most recent call last)",
      "\u001b[0;32m<ipython-input-52-d3f8b9d4e270>\u001b[0m in \u001b[0;36m<module>\u001b[0;34m()\u001b[0m\n\u001b[1;32m     11\u001b[0m \u001b[0mres3\u001b[0m\u001b[0;34m=\u001b[0m\u001b[0mres2\u001b[0m\u001b[0;34m.\u001b[0m\u001b[0mswapaxes\u001b[0m\u001b[0;34m(\u001b[0m\u001b[0;36m0\u001b[0m\u001b[0;34m,\u001b[0m\u001b[0;36m1\u001b[0m\u001b[0;34m)\u001b[0m\u001b[0;34m\u001b[0m\u001b[0m\n\u001b[1;32m     12\u001b[0m \u001b[0mres4\u001b[0m \u001b[0;34m=\u001b[0m \u001b[0mres3\u001b[0m\u001b[0;34m.\u001b[0m\u001b[0mreshape\u001b[0m\u001b[0;34m(\u001b[0m\u001b[0mb\u001b[0m\u001b[0;34m.\u001b[0m\u001b[0msize\u001b[0m\u001b[0;34m,\u001b[0m\u001b[0ma\u001b[0m\u001b[0;34m.\u001b[0m\u001b[0msize\u001b[0m\u001b[0;34m*\u001b[0m\u001b[0mc\u001b[0m\u001b[0;34m.\u001b[0m\u001b[0msize\u001b[0m\u001b[0;34m)\u001b[0m\u001b[0;34m\u001b[0m\u001b[0m\n\u001b[0;32m---> 13\u001b[0;31m \u001b[0mAS\u001b[0m\u001b[0;34m,\u001b[0m\u001b[0mSS\u001b[0m\u001b[0;34m,\u001b[0m\u001b[0mAr\u001b[0m \u001b[0;34m=\u001b[0m \u001b[0msc\u001b[0m\u001b[0;34m.\u001b[0m\u001b[0mlinalg\u001b[0m\u001b[0;34m.\u001b[0m\u001b[0msvd\u001b[0m\u001b[0;34m(\u001b[0m\u001b[0mres4\u001b[0m\u001b[0;34m)\u001b[0m\u001b[0;34m\u001b[0m\u001b[0m\n\u001b[0m\u001b[1;32m     14\u001b[0m \u001b[0mprint\u001b[0m\u001b[0;34m(\u001b[0m\u001b[0mAS\u001b[0m\u001b[0;34m.\u001b[0m\u001b[0mshape\u001b[0m\u001b[0;34m,\u001b[0m\u001b[0mSS\u001b[0m\u001b[0;34m.\u001b[0m\u001b[0mshape\u001b[0m\u001b[0;34m,\u001b[0m\u001b[0mAr\u001b[0m\u001b[0;34m.\u001b[0m\u001b[0mshape\u001b[0m\u001b[0;34m)\u001b[0m\u001b[0;34m\u001b[0m\u001b[0m\n\u001b[1;32m     15\u001b[0m \u001b[0mA0\u001b[0m\u001b[0;34m,\u001b[0m\u001b[0mS0\u001b[0m\u001b[0;34m,\u001b[0m\u001b[0mA1\u001b[0m \u001b[0;34m=\u001b[0m \u001b[0msc\u001b[0m\u001b[0;34m.\u001b[0m\u001b[0mlinalg\u001b[0m\u001b[0;34m.\u001b[0m\u001b[0msvd\u001b[0m\u001b[0;34m(\u001b[0m\u001b[0mAr\u001b[0m\u001b[0;34m)\u001b[0m\u001b[0;34m\u001b[0m\u001b[0m\n",
      "\u001b[0;31mAttributeError\u001b[0m: module 'scipy' has no attribute 'linalg'"
     ]
    }
   ],
   "source": [
    "a = np.arange(0,3)\n",
    "b = np.arange(0,2)\n",
    "c = np.arange(0,3)\n",
    "\n",
    "prod = np.tensordot(np.tensordot(a,b,axes=0),c,axes=0)\n",
    "prod2=prod.reshape(a.size*b.size*c.size)\n",
    "mat = np.tensordot(np.linspace(0,prod2.size-1,prod2.size),np.linspace(0,prod2.size-1,prod2.size),axes=0)\n",
    "res = np.dot(mat,prod2)\n",
    "res2 = res.reshape(a.size,b.size,c.size)\n",
    "\n",
    "res3=res2.swapaxes(0,1)\n",
    "res4 = res3.reshape(b.size,a.size*c.size)\n",
    "AS,SS,Ar = sc.linalg.svd(res4)\n",
    "print(AS.shape,SS.shape,Ar.shape)\n",
    "A0,S0,A1 = sc.linalg.svd(Ar)\n",
    "print(A0,A1)"
   ]
  },
  {
   "cell_type": "code",
   "execution_count": 24,
   "metadata": {},
   "outputs": [
    {
     "name": "stdout",
     "output_type": "stream",
     "text": [
      "[ 120.13090896  139.28705812  139.77114025  154.58500814   96.18788058\n",
      "  155.28940076   99.24359246  129.73804808   99.26278539  129.22635709\n",
      "  166.41420675  146.33214361  161.18325832  160.64799495  111.37126367\n",
      "  167.17209787  136.47799306  164.90107663  120.87429184  129.59736296\n",
      "  126.14180534  136.74954941  134.97539317  144.13205736  138.13557819\n",
      "  138.73607138  119.92874653  131.0566248   112.72820755  143.70890622\n",
      "  126.86160989  130.9563839   110.0743407   154.7030679   133.52434426\n",
      "  149.71480566  103.8332036   129.69122294  137.79142253  137.13225713]\n"
     ]
    },
    {
     "data": {
      "text/plain": [
       "array([[ 120.13090896,  139.28705812,  139.77114025,  154.58500814],\n",
       "       [  96.18788058,  155.28940076,   99.24359246,  129.73804808],\n",
       "       [  99.26278539,  129.22635709,  166.41420675,  146.33214361],\n",
       "       [ 161.18325832,  160.64799495,  111.37126367,  167.17209787],\n",
       "       [ 136.47799306,  164.90107663,  120.87429184,  129.59736296],\n",
       "       [ 126.14180534,  136.74954941,  134.97539317,  144.13205736],\n",
       "       [ 138.13557819,  138.73607138,  119.92874653,  131.0566248 ],\n",
       "       [ 112.72820755,  143.70890622,  126.86160989,  130.9563839 ],\n",
       "       [ 110.0743407 ,  154.7030679 ,  133.52434426,  149.71480566],\n",
       "       [ 103.8332036 ,  129.69122294,  137.79142253,  137.13225713]])"
      ]
     },
     "execution_count": 24,
     "metadata": {},
     "output_type": "execute_result"
    }
   ],
   "source": [
    "prod = np.tensordot(a,b,axes=0)\n",
    "prod2 = prod.reshape(a.size*b.size)\n",
    "mat = np.random.rand(prod2.size,prod2.size)\n",
    "res = np.dot(mat,prod2)\n",
    "print(res)\n",
    "res.reshape(a.size, b.size)"
   ]
  },
  {
   "cell_type": "code",
   "execution_count": 76,
   "metadata": {},
   "outputs": [
    {
     "name": "stdout",
     "output_type": "stream",
     "text": [
      "a\n",
      " [0 1 2] \n",
      "c\n",
      " [0 1 2]\n",
      "\n",
      "d\n",
      " [[0 0 0]\n",
      " [0 1 2]\n",
      " [0 2 4]]\n",
      "\n",
      "e\n",
      " [[[ 0  0  0]\n",
      "  [ 0  0  0]\n",
      "  [ 0  0  0]]\n",
      "\n",
      " [[ 0  0  0]\n",
      "  [ 0  2  4]\n",
      "  [ 0  4  8]]\n",
      "\n",
      " [[ 0  0  0]\n",
      "  [ 0  4  8]\n",
      "  [ 0  8 16]]]\n"
     ]
    },
    {
     "data": {
      "text/plain": [
       "array([[[ 0,  0,  0],\n",
       "        [ 0,  0,  0],\n",
       "        [ 0,  0,  0]],\n",
       "\n",
       "       [[ 0,  0,  0],\n",
       "        [ 0, 10, 20],\n",
       "        [ 0, 20, 40]],\n",
       "\n",
       "       [[ 0,  0,  0],\n",
       "        [ 0, 20, 40],\n",
       "        [ 0, 40, 80]]])"
      ]
     },
     "execution_count": 76,
     "metadata": {},
     "output_type": "execute_result"
    }
   ],
   "source": [
    "print(\"a\\n\",a,\"\\nc\\n\",c)\n",
    "d=np.tensordot(a,c,0)\n",
    "e=np.tensordot(np.tensordot(a,2*c,0),c,0)\n",
    "print(\"\\nd\\n\",d)\n",
    "print(\"\\ne\\n\",e)\n",
    "np.einsum(\"ijk,jl\",e,d)"
   ]
  },
  {
   "cell_type": "code",
   "execution_count": null,
   "metadata": {
    "collapsed": true
   },
   "outputs": [],
   "source": []
  }
 ],
 "metadata": {
  "kernelspec": {
   "display_name": "Python [default]",
   "language": "python",
   "name": "python3"
  },
  "language_info": {
   "codemirror_mode": {
    "name": "ipython",
    "version": 3
   },
   "file_extension": ".py",
   "mimetype": "text/x-python",
   "name": "python",
   "nbconvert_exporter": "python",
   "pygments_lexer": "ipython3",
   "version": "3.5.4"
  }
 },
 "nbformat": 4,
 "nbformat_minor": 2
}
