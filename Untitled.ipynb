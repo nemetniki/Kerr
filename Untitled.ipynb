{
 "cells": [
  {
   "cell_type": "code",
   "execution_count": 25,
   "metadata": {},
   "outputs": [
    {
     "name": "stdout",
     "output_type": "stream",
     "text": [
      "(2,)\n",
      "(4,)\n",
      "20\n"
     ]
    },
    {
     "data": {
      "text/plain": [
       "[3, 4, 6]"
      ]
     },
     "execution_count": 25,
     "metadata": {},
     "output_type": "execute_result"
    }
   ],
   "source": [
    "import numpy as np\n",
    "a = np.zeros((3,4,5))\n",
    "print(np.array(a.shape[:2]).shape)\n",
    "c = np.array([1,2,3,4,5])\n",
    "print(np.concatenate((np.array(a.shape[:2]),np.array([1,2])),axis=0).shape)\n",
    "d = [1,2]\n",
    "shape = np.array(a.shape)\n",
    "print(np.prod(shape[d]))\n",
    "b = np.zeros(np.concatenate((a.shape[:2],np.array([np.prod(c[d]),])),axis=0))\n",
    "list(b.shape)"
   ]
  },
  {
   "cell_type": "code",
   "execution_count": 39,
   "metadata": {},
   "outputs": [
    {
     "data": {
      "text/plain": [
       "[array([1, 2, 3, 4])]"
      ]
     },
     "execution_count": 39,
     "metadata": {},
     "output_type": "execute_result"
    }
   ],
   "source": [
    "[5-np.arange(4,0,-1)]"
   ]
  },
  {
   "cell_type": "code",
   "execution_count": 40,
   "metadata": {},
   "outputs": [
    {
     "data": {
      "text/plain": [
       "[None, None, None, None, None]"
      ]
     },
     "execution_count": 40,
     "metadata": {},
     "output_type": "execute_result"
    }
   ],
   "source": [
    "[None]*5"
   ]
  },
  {
   "cell_type": "code",
   "execution_count": 47,
   "metadata": {},
   "outputs": [
    {
     "name": "stdout",
     "output_type": "stream",
     "text": [
      "(1, 3, 4, 5)\n",
      "[[[2. 2. 2. 2. 2.]\n",
      "  [2. 2. 2. 2. 2.]\n",
      "  [2. 2. 2. 2. 2.]\n",
      "  [2. 2. 2. 2. 2.]]\n",
      "\n",
      " [[2. 2. 2. 2. 2.]\n",
      "  [2. 2. 2. 2. 2.]\n",
      "  [2. 2. 2. 2. 2.]\n",
      "  [2. 2. 2. 2. 2.]]\n",
      "\n",
      " [[2. 2. 2. 2. 2.]\n",
      "  [2. 2. 2. 2. 2.]\n",
      "  [2. 2. 2. 2. 2.]\n",
      "  [2. 2. 2. 2. 2.]]]\n",
      "[[[[2. 2. 2. 2. 2.]\n",
      "   [2. 2. 2. 2. 2.]\n",
      "   [2. 2. 2. 2. 2.]\n",
      "   [2. 2. 2. 2. 2.]]\n",
      "\n",
      "  [[2. 2. 2. 2. 2.]\n",
      "   [2. 2. 2. 2. 2.]\n",
      "   [2. 2. 2. 2. 2.]\n",
      "   [2. 2. 2. 2. 2.]]\n",
      "\n",
      "  [[2. 2. 2. 2. 2.]\n",
      "   [2. 2. 2. 2. 2.]\n",
      "   [2. 2. 2. 2. 2.]\n",
      "   [2. 2. 2. 2. 2.]]]]\n"
     ]
    }
   ],
   "source": [
    "a=np.ones((3,4,5))*2\n",
    "d=np.tensordot(np.ones(1),a,axes=0)\n",
    "print(d.shape)\n",
    "print(a)\n",
    "print(d)\n"
   ]
  },
  {
   "cell_type": "code",
   "execution_count": null,
   "metadata": {},
   "outputs": [],
   "source": []
  }
 ],
 "metadata": {
  "kernelspec": {
   "display_name": "Python 3",
   "language": "python",
   "name": "python3"
  },
  "language_info": {
   "codemirror_mode": {
    "name": "ipython",
    "version": 3
   },
   "file_extension": ".py",
   "mimetype": "text/x-python",
   "name": "python",
   "nbconvert_exporter": "python",
   "pygments_lexer": "ipython3",
   "version": "3.7.0"
  }
 },
 "nbformat": 4,
 "nbformat_minor": 2
}
