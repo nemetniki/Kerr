{
 "cells": [
  {
   "cell_type": "markdown",
   "metadata": {
    "collapsed": true
   },
   "source": [
    "# MPS code"
   ]
  },
  {
   "cell_type": "markdown",
   "metadata": {},
   "source": [
    "## 1. Hamiltonian in the rotating frame\n",
    "\n",
    "The system Hamiltonian:\n",
    "\n",
    "\\begin{align}\n",
    "\\hat{H}_S=\\hbar\\Delta_c\\hat{c}^\\dagger\\hat{c} + \\hbar\\Delta_e\\hat{\\sigma}_+\\hat{\\sigma}_-\n",
    "            +\\hbar g\\left(\\hat{c}^\\dagger\\hat{\\sigma}_-+\\hat{\\sigma}_+\\hat{c}\\right)\n",
    "            +\\frac{\\hbar\\Omega_c}{2}\\left(\\hat{c}+\\hat{c}^\\dagger\\right)\n",
    "            +\\frac{\\hbar\\Omega_e}{2}\\left(\\hat{\\sigma}_-+\\hat{\\sigma}_+\\right)\n",
    "\\end{align}\n",
    "\n",
    "The interaction with the environment with feedback:\n",
    "\n",
    "\\begin{align}\n",
    "\\hat{H}_{fb}(t)=-i\\hbar\\left\\{\\left[\\sqrt{\\gamma_R}\\hat{b}(t-\\tau)e^{-i\\phi}+\\sqrt{\\gamma_L}\\hat{b}(t)\\right]\\hat{c}^\\dagger-\\left[\\sqrt{\\gamma_R}\\hat{b}^\\dagger(t-\\tau)e^{i\\phi}+\\sqrt{\\gamma_L}\\hat{b}^\\dagger(t)\\right]\\hat{c}\\right\\}\n",
    "\\end{align}\n",
    "\n",
    "where the feedback phase is\n",
    "\\begin{align}\n",
    "\\phi=\\pi-\\omega_L\\tau\n",
    "\\end{align}\n",
    "\n",
    "The bath is originally Markovain with\n",
    "\\begin{align}\n",
    "\\left[\\hat{b}(t),\\hat{b}^\\dagger(t^\\prime)\\right]=\\delta(t-t^\\prime)\n",
    "\\end{align}\n"
   ]
  },
  {
   "cell_type": "markdown",
   "metadata": {},
   "source": [
    "## 2. Time-evolution\n",
    "\n",
    "\\begin{align}\n",
    "|\\Psi(t_{k+1})\\rangle=U(t_{k+1},t_k)|\\Psi(t_k)\\rangle\n",
    "\\end{align}\n",
    "\n",
    "with $\\Psi$ written as a Matrix Product State. The time-evolution operator can be expanded as\n",
    "\\begin{align}\n",
    "U(t_{k+1},t_k) &= \\exp{\\left[-\\frac{i}{\\hbar}\\left(H_S\\Delta t+\\int_{t_k}^{t_{k+1}}H_{fb}(t)dt\\right)\\right]}\\\\\n",
    "{\\bf U}&=\\exp{\\left({\\bf M}_S+{\\bf M}_B\\right)} = \\sum_{n=0}^\\infty\\frac{1}{n!}\\left({\\bf M}_S+{\\bf M}_B\\right)^n\n",
    "\\end{align}\n",
    "where $t_k=k\\Delta t$ and $\\Delta B(t_k) = \\int_{t_k}^{t_{k+1}}b(t)dt$. This means that\n",
    "\\begin{align}\n",
    "\\left[\\Delta B(t_k),\\Delta B^\\dagger(t_j)\\right] = \\Delta t \\delta_{k,j}\n",
    "\\end{align}\n",
    "\n",
    "Therefore the different orders of the expansion above are:\n",
    "\\begin{align}\n",
    "{\\bf U} &=\\mathbb{1}+\\color{red}{{\\bf M}_B}+\\color{orange}{{\\bf M}_S+\\frac{1}{2}{\\bf M}_B^2}+\n",
    "            \\color{green}{\\frac{1}{2}\\left({\\bf M}_S{\\bf M}_B+{\\bf M}_B{\\bf M}_S\\right)+\\frac{1}{6}{\\bf M}_B^3}+\n",
    "            \\color{blue}{\\frac{1}{2}{\\bf M}_S^2+\\frac{1}{6}\\left({\\bf M}_S{\\bf M}_B^2+{\\bf M}_B{\\bf M}_S{\\bf M}_B+{\\bf M}_B^2{\\bf M}_S\\right)+\\frac{1}{24}{\\bf M}_B^4}+\\mathcal{O}(\\Delta t^{5/2})\n",
    "\\end{align}\n",
    "This means that to first order we have:\n",
    "\\begin{align}\n",
    "U^{i_k,i_T,i_c,...,i_\\tau}_{j_k,j_T,j_c,...,j_\\tau}&=\n",
    "   \\delta_{j_k,i_k}\\delta_{j_T,i_T}\\delta_{j_c,i_c}\\delta_{j_{k-1},i_{k-1}}\\dots\\delta_{j_{k+1-l},i_{k+1-l}}\\delta_{j_\\tau,i_\\tau}-\\\\\n",
    "   &\\quad-i\\Delta t\\left\\Delta_T\\delta_{j_T,e}\\delta{i_T,e}\\delta{j_c,i_c}+i_c\\Delta_c\n",
    "\\end{align}"
   ]
  },
  {
   "cell_type": "code",
   "execution_count": null,
   "metadata": {},
   "outputs": [],
   "source": []
  }
 ],
 "metadata": {
  "kernelspec": {
   "display_name": "Python 3",
   "language": "python",
   "name": "python3"
  },
  "language_info": {
   "codemirror_mode": {
    "name": "ipython",
    "version": 3
   },
   "file_extension": ".py",
   "mimetype": "text/x-python",
   "name": "python",
   "nbconvert_exporter": "python",
   "pygments_lexer": "ipython3",
   "version": "3.5.1"
  }
 },
 "nbformat": 4,
 "nbformat_minor": 2
}
