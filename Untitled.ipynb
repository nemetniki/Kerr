{
 "cells": [
  {
   "cell_type": "code",
   "execution_count": 1,
   "metadata": {},
   "outputs": [],
   "source": [
    "import numpy as np\n",
    "import scipy as sc\n",
    "import time\n",
    "import sys\n",
    "import argparse\n",
    "\n",
    "infile = \"./input files/therm_in_3.dat\"\n",
    "\n",
    "file = open(infile,\"a\")\n",
    "file.close()\n",
    "file = open(infile,\"r+\")\n",
    "file.truncate()\n",
    "file.close()\n",
    "file = open(infile,\"a\")\n",
    "\n",
    "kap = np.array([0.01,0.1])\n",
    "endt = np.array([30.,20.])\n",
    "nT = np.array([0.01, 0.05,0.1,0.5,1.])\n",
    "#for i in range(len(endt)):\n",
    "#    for j in range(len(nT)):\n",
    "#        file.write(\"\"\"%f .0 1. 0. -init_ind 1 -L 1 -Nphot 15 -dt 0.005 -cohC 5. -nT %f -endt %f\\n\"\"\" % (kap[i],nT[j],endt[i]))\n",
    "#for i in range(len(endt)):\n",
    "#    for j in range(len(nT)):\n",
    "#        file.write(\"\"\"%f .0 1. 0. -init_ind 11 -L 1 -Nphot 15 -dt 0.005 -nT %f -endt %f\\n\"\"\" % (kap[i],nT[j],endt[i]))\n",
    "for i in range(len(endt)):\n",
    "    for j in range(len(nT)):\n",
    "        file.write(\"\"\"%f %f 1. 0. -init_ind 1 -Nphot 15 -L 20 -dt 0.005 -cohC 5. -nT %f -endt %f\\n\"\"\" % (kap[i],kap[i]/2.,nT[j],endt[i]))\n",
    "for i in range(len(endt)):\n",
    "    for j in range(len(nT)):\n",
    "        file.write(\"\"\"%f %f 1. 1. -init_ind 1 -Nphot 15 -L 20 -dt 0.005 -cohC 5. -nT %f -endt %f\\n\"\"\" % (kap[i],kap[i]/2.,nT[j],endt[i]))\n",
    "#infile.close()\n",
    "file.close()\n"
   ]
  },
  {
   "cell_type": "code",
   "execution_count": 6,
   "metadata": {},
   "outputs": [
    {
     "name": "stdout",
     "output_type": "stream",
     "text": [
      "[0. 1. 2. 3. 4. 5.]\n",
      "[ 20  40  60  80 100 120]\n"
     ]
    }
   ],
   "source": [
    "import numpy as np\n",
    "import scipy as sc\n",
    "import time\n",
    "import sys\n",
    "import argparse\n",
    "\n",
    "infile = \"./input files/atom_drive_in.dat\"\n",
    "\n",
    "file = open(infile,\"a\")\n",
    "file.close()\n",
    "file = open(infile,\"r+\")\n",
    "file.truncate()\n",
    "file.close()\n",
    "file = open(infile,\"a\")\n",
    "\n",
    "ome = np.linspace(0.,5.,6)\n",
    "L = np.arange(20,140,20)\n",
    "print(ome)\n",
    "print(L)\n",
    "endt = np.array([30.,20.])\n",
    "nT = np.array([0.01, 0.05,0.1,0.5,1.])\n",
    "for j in range(len(ome)):\n",
    "    file.write(\"\"\".02 0. 1. 0. -Om_e %f -L 1 -endt 20.\\n\"\"\" % (ome[j]))\n",
    "for i in range(len(L)):\n",
    "    for j in range(len(ome)):\n",
    "        file.write(\"\"\".015 0.005 1. 1. -Om_e %f -L %d -endt 20.\\n\"\"\" % (ome[j],L[i]))\n",
    "for i in range(len(L)):\n",
    "    for j in range(len(ome)):\n",
    "        file.write(\"\"\".015 0.005 1. 0. -Om_e %f -L %d -endt 20.\\n\"\"\" % (ome[j],L[i]))\n",
    "#infile.close()\n",
    "file.close()\n"
   ]
  },
  {
   "cell_type": "code",
   "execution_count": null,
   "metadata": {},
   "outputs": [],
   "source": []
  }
 ],
 "metadata": {
  "kernelspec": {
   "display_name": "Python 3",
   "language": "python",
   "name": "python3"
  },
  "language_info": {
   "codemirror_mode": {
    "name": "ipython",
    "version": 3
   },
   "file_extension": ".py",
   "mimetype": "text/x-python",
   "name": "python",
   "nbconvert_exporter": "python",
   "pygments_lexer": "ipython3",
   "version": "3.5.5"
  }
 },
 "nbformat": 4,
 "nbformat_minor": 2
}
