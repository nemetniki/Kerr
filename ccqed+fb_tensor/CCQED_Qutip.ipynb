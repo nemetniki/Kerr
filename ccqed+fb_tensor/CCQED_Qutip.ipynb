{
 "cells": [
  {
   "cell_type": "code",
   "execution_count": 1,
   "metadata": {},
   "outputs": [],
   "source": [
    "# setup the matplotlib graphics library and configure it to show \n",
    "# figures inline in the notebook\n",
    "%matplotlib inline\n",
    "import matplotlib.pyplot as plt\n",
    "import numpy as np"
   ]
  },
  {
   "cell_type": "code",
   "execution_count": 2,
   "metadata": {},
   "outputs": [],
   "source": [
    "# make qutip available in the rest of the notebook\n",
    "from qutip import *"
   ]
  },
  {
   "cell_type": "code",
   "execution_count": 36,
   "metadata": {},
   "outputs": [
    {
     "name": "stdout",
     "output_type": "stream",
     "text": [
      "9.56307382343 6.30079360081\n"
     ]
    }
   ],
   "source": [
    "wc = 0.0#  * 2 * np.pi  # cavity frequency\n",
    "wa = 0.0 # * 2 * np.pi  # atom frequency\n",
    "g1  = 5.0# * 2 * np.pi  # coupling strength\n",
    "g2  = 5.0# * 2 * np.pi  # coupling strength\n",
    "kappa1 = 1.3399#1# * 2 * np.pi       # cavity dissipation rate\n",
    "kappa2 = 0.8933#1# * 2 * np.pi       # cavity dissipation rate\n",
    "tau=0.021\n",
    "kappav1=3.8410\n",
    "kappav2=1.6674\n",
    "v1 = np.sqrt(kappav1/(2*tau))\n",
    "v2 = np.sqrt(kappav2/(2*tau))\n",
    "print(v1,v2)\n",
    "gamma = 0.#5.2/2.# * 2 * np.pi        # atom dissipation rate\n",
    "Omc1 = 0\n",
    "Ome1 = 0.#*2*np.pi\n",
    "Omc2 = 0\n",
    "Ome2 = 0.#*2*np.pi\n",
    "N = 3              # number of cavity fock states\n",
    "n_th_a = 0.0        # avg number of thermal bath excitation\n",
    "use_rwa = True\n",
    "\n",
    "tlist = np.linspace(0,30,30001)"
   ]
  },
  {
   "cell_type": "code",
   "execution_count": 43,
   "metadata": {},
   "outputs": [],
   "source": [
    "# intial state\n",
    "psi0 = tensor(basis(N,0), basis(2,1),basis(N,0),basis(2,0),basis(N,0))    # start with an excited atom\n",
    "\n",
    "# operators\n",
    "a1 = tensor(destroy(N), qeye(2), qeye(N), qeye(2), qeye(N))\n",
    "a2 = tensor(qeye(N), qeye(2), qeye(N), qeye(2), destroy(N))\n",
    "b  = tensor(qeye(N), qeye(2), destroy(N), qeye(2), qeye(N))\n",
    "s1 = tensor(qeye(N), destroy(2), qeye(N), qeye(2), qeye(N))\n",
    "s2 = tensor(qeye(N), qeye(2), qeye(N), destroy(2), qeye(N))\n",
    "\n",
    "# Hamiltonian\n",
    "if use_rwa:\n",
    "    H = (wc * (a1.dag()*a1+a2.dag()*a2+b.dag()*b) + wa * (s1.dag()*s1+s2.dag()*s2) +\n",
    "         g1 * (a1.dag()*s1+a1*s1.dag()) + g2 * (a2.dag()*s2+a2*s2.dag()) + \n",
    "         v1 * (a1.dag()*b+a1*b.dag()) + v2 * (a2.dag()*b+a2*b.dag()) + \n",
    "         Omc1*(a1+a1.dag()) + Omc2*(a2+a2.dag()) + Ome1*(s1+s1.dag()) + Ome2*(s2+s2.dag()))\n",
    "    H2 = (wc * (a1.dag()*a1+a2.dag()*a2+b.dag()*b) + wa * (s1.dag()*s1+s2.dag()*s2) +\n",
    "         g1 * (a1.dag()*s1+a1*s1.dag()) + g2 * (a2.dag()*s2+a2*s2.dag()) + \n",
    "         Omc1*(a1+a1.dag()) + Omc2*(a2+a2.dag()) + Ome1*(s1+s1.dag()) + Ome2*(s2+s2.dag()))\n",
    "else:\n",
    "    H = wc * a.dag() * a + wa * sm.dag() * sm + g * (a.dag() + a) * (sm + sm.dag())"
   ]
  },
  {
   "cell_type": "code",
   "execution_count": 44,
   "metadata": {},
   "outputs": [],
   "source": [
    "c_ops = []\n",
    "c_ops2 = []\n",
    "\n",
    "# cavity relaxation\n",
    "rate = kappa1 * (1 + n_th_a)\n",
    "if rate > 0.0:\n",
    "    c_ops.append(np.sqrt(rate) * a1)\n",
    "    c_ops2.append(np.sqrt(rate) * a1)\n",
    "# cavity relaxation\n",
    "rate = kappa2 * (1 + n_th_a)\n",
    "if rate > 0.0:\n",
    "    c_ops.append(np.sqrt(rate) * a2)\n",
    "    c_ops2.append(np.sqrt(rate) * a2)\n",
    "# cavity excitation, if temperature > 0\n",
    "rate = kappa2 * n_th_a\n",
    "if rate > 0.0:\n",
    "    c_ops.append(np.sqrt(rate) * a2.dag())\n",
    "    c_ops2.append(np.sqrt(rate) * a2.dag())\n",
    "\n",
    "# cavity excitation, if temperature > 0\n",
    "rate = kappa1 * n_th_a\n",
    "if rate > 0.0:\n",
    "    c_ops.append(np.sqrt(rate) * a1.dag())\n",
    "    c_ops2.append(np.sqrt(rate) * a1.dag())\n",
    "\n",
    "# qubit relaxation\n",
    "rate = gamma\n",
    "if rate > 0.0:\n",
    "    c_ops.append(np.sqrt(rate) * s1)\n",
    "    c_ops2.append(np.sqrt(rate) * s1)\n",
    "# qubit relaxation\n",
    "rate = gamma\n",
    "if rate > 0.0:\n",
    "    c_ops.append(np.sqrt(rate) * s2)\n",
    "    c_ops2.append(np.sqrt(rate) * s2)\n",
    "\n",
    "rate = kappav1\n",
    "if rate > 0.0:\n",
    "    c_ops2.append(np.sqrt(rate) * a1)\n",
    "rate = kappav2\n",
    "if rate > 0.0:\n",
    "    c_ops2.append(np.sqrt(rate) * a2)\n",
    "\n"
   ]
  },
  {
   "cell_type": "code",
   "execution_count": null,
   "metadata": {},
   "outputs": [
    {
     "name": "stdout",
     "output_type": "stream",
     "text": [
      "10.0%. Run time: 582.20s. Est. time left: 00:01:27:19\n",
      "20.0%. Run time: 1129.09s. Est. time left: 00:01:15:16\n",
      "30.0%. Run time: 1664.18s. Est. time left: 00:01:04:43\n",
      "40.0%. Run time: 2203.53s. Est. time left: 00:00:55:05\n",
      "50.0%. Run time: 2740.94s. Est. time left: 00:00:45:40\n"
     ]
    }
   ],
   "source": [
    "output2 = mcsolve(H, psi0, tlist, c_ops, [a1.dag()*a1,a2.dag()*a2,s1.dag()*s1,s2.dag()*s2,b.dag()*b\n",
    "                                         ,s1.dag()*s1-s1*s1.dag(),s2.dag()*s2-s2*s2.dag()],\n",
    "                  ntraj=10000, options=Options(store_states=False))#True))\n",
    "output = mcsolve(H2, psi0, tlist, c_ops2, [a1.dag()*a1,a2.dag()*a2,s1.dag()*s1,s2.dag()*s2,b.dag()*b\n",
    "                                         ,s1.dag()*s1-s1*s1.dag(),s2.dag()*s2-s2*s2.dag()],\n",
    "                  ntraj=10000, options=Options(store_states=False))#True))\n"
   ]
  },
  {
   "cell_type": "code",
   "execution_count": null,
   "metadata": {},
   "outputs": [],
   "source": [
    "#Data2 = np.zeros((1001,5))\n",
    "#Data2[:,:] = np.genfromtxt('./CCQED_MC.txt')\n",
    "tlistp = tlist\n",
    "plt.figure(0,figsize=(9,6))\n",
    "norm = output2.expect[0]+output2.expect[1]+output2.expect[2]+output2.expect[3]+output2.expect[4]\n",
    "#norm2 = output.expect[0]+output.expect[1]+output.expect[2]+output.expect[3]+output.expect[4]\n",
    "plt.plot(tlistp, norm,lw=2)\n",
    "#plt.plot(tlistp, norm2,lw=2,ls=\":\")\n",
    "#print(np.any(output.expect[4]))\n",
    "plt.figure(1,figsize=(9,6))\n",
    "plt.plot(tlistp, output2.expect[0],lw=2,label=\"left cav\")\n",
    "plt.plot(tlistp, output2.expect[1],lw=2,label=\"right cav\")\n",
    "plt.plot(tlistp, output2.expect[4],lw=2,label=\"fibre\")\n",
    "plt.plot(tlistp, output.expect[0],lw=4,ls=\":\",label=\"left cav\")\n",
    "plt.plot(tlistp, output.expect[1],lw=4,ls=\":\",label=\"right cav\")\n",
    "#plt.plot(tlistp, output.expect[4],lw=2,ls=\":\",label=)\n",
    "\n",
    "#plt.plot(Data2[:,0], Data2[:,3],ls=\"--\",lw=2)\n",
    "#plt.plot(Data2[:,0], Data2[:,4],ls=\"--\",lw=2)\n",
    "plt.grid(True)\n",
    "plt.legend(loc=(1.05,0.7))\n",
    "#plt.xlim(0,100)\n",
    "plt.figure(2,figsize=(9,6))\n",
    "plt.plot(tlistp, output2.expect[5],lw=2,label=\"left atom\")\n",
    "plt.plot(tlistp, output2.expect[6],lw=2,label= \"right atom\")\n",
    "plt.plot(tlistp, output.expect[5],lw=4,ls=\":\",label=\"left atom\")\n",
    "plt.plot(tlistp, output.expect[6],lw=4,ls=\":\",label= \"right atom\")\n",
    "plt.legend(loc=(1.05,0.7))\n",
    "#plt.plot(Data2[:,0], Data2[:,1],ls=\"--\",lw=2)\n",
    "#plt.plot(Data2[:,0], Data2[:,2],ls=\"--\",lw=2)\n",
    "\n",
    "plt.grid(True)\n",
    "#plt.xlim(0,100)\n",
    "plt.grid(True)\n",
    "OUT = np.stack((tlistp,output2.expect[5],output2.expect[6],output2.expect[0],\n",
    "                output2.expect[1],output2.expect[4]),axis=1)\n",
    "np.savetxt(\"../Data/CCQED_MC40.txt\",OUT)\n",
    "OUT2 = np.stack((tlistp,output.expect[5],output.expect[6],output.expect[0],output.expect[1]),axis=1)\n",
    "np.savetxt(\"../Data/CCQED_MC40_diss.txt\",OUT2)"
   ]
  },
  {
   "cell_type": "code",
   "execution_count": null,
   "metadata": {},
   "outputs": [],
   "source": []
  },
  {
   "cell_type": "code",
   "execution_count": null,
   "metadata": {},
   "outputs": [],
   "source": []
  }
 ],
 "metadata": {
  "kernelspec": {
   "display_name": "Python 3",
   "language": "python",
   "name": "python3"
  },
  "language_info": {
   "codemirror_mode": {
    "name": "ipython",
    "version": 3
   },
   "file_extension": ".py",
   "mimetype": "text/x-python",
   "name": "python",
   "nbconvert_exporter": "python",
   "pygments_lexer": "ipython3",
   "version": "3.5.5"
  }
 },
 "nbformat": 4,
 "nbformat_minor": 2
}
