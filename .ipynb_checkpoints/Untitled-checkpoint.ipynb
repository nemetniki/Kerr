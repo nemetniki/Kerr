{
 "cells": [
  {
   "cell_type": "markdown",
   "metadata": {
    "collapsed": true
   },
   "source": [
    "# MPS code"
   ]
  },
  {
   "cell_type": "markdown",
   "metadata": {},
   "source": [
    "## 1. Hamiltonian in the rotating frame\n",
    "\n",
    "The system Hamiltonian:\n",
    "\n",
    "\\begin{align}\n",
    "\\hat{H}_S=\\hbar\\Delta_c\\hat{c}^\\dagger\\hat{c} + \\hbar\\Delta_e\\hat{\\sigma}_+\\hat{\\sigma}_-\n",
    "            +\\hbar g\\left(\\hat{c}^\\dagger\\hat{\\sigma}_-+\\hat{\\sigma}_+\\hat{c}\\right)\n",
    "            +\\frac{\\hbar\\Omega_c}{2}\\left(\\hat{c}+\\hat{c}^\\dagger\\right)\n",
    "            +\\frac{\\hbar\\Omega_e}{2}\\left(\\hat{\\sigma}_-+\\hat{\\sigma}_+\\right)\n",
    "\\end{align}\n",
    "\n",
    "The interaction with the environment with feedback:\n",
    "\n",
    "\\begin{align}\n",
    "\\hat{H}_{fb}(t)=-i\\hbar\\left\\{\\left[\\sqrt{\\gamma_R}\\hat{b}(t-\\tau)e^{-i\\phi}+\\sqrt{\\gamma_L}\\hat{b}(t)\\right]\\hat{c}^\\dagger-\\left[\\sqrt{\\gamma_R}\\hat{b}^\\dagger(t-\\tau)e^{i\\phi}+\\sqrt{\\gamma_L}\\hat{b}^\\dagger(t)\\right]\\hat{c}\\right\\}\n",
    "\\end{align}\n",
    "\n",
    "where the feedback phase is\n",
    "\\begin{align}\n",
    "\\phi=\\pi-\\omega_L\\tau\n",
    "\\end{align}\n",
    "\n",
    "The bath is originally Markovain with\n",
    "\\begin{align}\n",
    "\\left[\\hat{b}(t),\\hat{b}^\\dagger(t^\\prime)\\right]=\\delta(t-t^\\prime)\n",
    "\\end{align}\n"
   ]
  },
  {
   "attachments": {},
   "cell_type": "markdown",
   "metadata": {},
   "source": [
    "## 2. Time-evolution\n",
    "\n",
    "\\begin{align}\n",
    "|\\Psi(t_{k+1})\\rangle=U(t_{k+1},t_k)|\\Psi(t_k)\\rangle\n",
    "\\end{align}\n",
    "\n",
    "with $\\Psi$ written as a Matrix Product State. The time-evolution operator can be expanded as\n",
    "\\begin{align}\n",
    "U(t_{k+1},t_k) &= \\exp{\\left[-\\frac{i}{\\hbar}\\left(H_S\\Delta t+\\int_{t_k}^{t_{k+1}}H_{fb}(t)dt\\right)\\right]}\\\\\n",
    "{\\bf U}&=\\exp{\\left({\\bf M}_S+{\\bf M}_B\\right)} = \\sum_{n=0}^\\infty\\frac{1}{n!}\\left({\\bf M}_S+{\\bf M}_B\\right)^n\n",
    "\\end{align}\n",
    "where $t_k=k\\Delta t$ and $\\Delta B(t_k) = \\int_{t_k}^{t_{k+1}}b(t)dt$. This means that\n",
    "\\begin{align}\n",
    "\\left[\\Delta B(t_k),\\Delta B^\\dagger(t_j)\\right] = \\Delta t \\delta_{k,j}\n",
    "\\end{align}\n",
    "\n",
    "Therefore the different orders of the expansion above are:\n",
    "\\begin{align}\n",
    "{\\bf U} &=\\mathbb{1}+\\color{red}{{\\bf M}_B}+\\color{orange}{{\\bf M}_S+\\frac{1}{2}{\\bf M}_B^2}+\n",
    "            \\color{green}{\\frac{1}{2}\\left({\\bf M}_S{\\bf M}_B+{\\bf M}_B{\\bf M}_S\\right)+\\frac{1}{6}{\\bf M}_B^3}+\n",
    "            \\color{blue}{\\frac{1}{2}{\\bf M}_S^2+\\frac{1}{6}\\left({\\bf M}_S{\\bf M}_B^2+{\\bf M}_B{\\bf M}_S{\\bf M}_B+{\\bf M}_B^2{\\bf M}_S\\right)+\\frac{1}{24}{\\bf M}_B^4}+\\mathcal{O}(\\Delta t^{5/2})\n",
    "\\end{align}\n",
    "This means that to first order we have:\n",
    "<img src='U_mat2.jpg'>"
   ]
  },
  {
   "cell_type": "markdown",
   "metadata": {},
   "source": [
    "## 3. Test case #1: without time-delay and driving\n",
    "Let us consider up to 4 photons in the environment and up to 4 excitations in the system."
   ]
  },
  {
   "cell_type": "code",
   "execution_count": 73,
   "metadata": {},
   "outputs": [
    {
     "name": "stdout",
     "output_type": "stream",
     "text": [
      "0\n",
      "1\n",
      "2\n",
      "3\n",
      "(5625,)\n",
      "(5625, 5625)\n",
      "0.0\n"
     ]
    }
   ],
   "source": [
    "%matplotlib inline\n",
    "import numpy as np\n",
    "import scipy as sc\n",
    "import matplotlib.pyplot as plt\n",
    "\n",
    "initenv = np.array([1,0,0,0,0])\n",
    "initsys = np.array([0,0,0,1,0,0,0,0,0]) #starting at |1>|e>\n",
    "initial=initenv\n",
    "#print(initial)\n",
    "i=0\n",
    "while i<4:\n",
    "    print(i)\n",
    "    i += 1\n",
    "    if i==2:\n",
    "        initial=np.tensordot(initial,initsys,axes=0)\n",
    "    else:\n",
    "        initial=np.tensordot(initial,initenv,axes=0)\n",
    "#    print(initial)\n",
    "length = initenv.size**4*initsys.size\n",
    "initvec = initial.reshape(length)\n",
    "Umat    = np.diag(np.ones(length))\n",
    "endvec=np.dot(Umat,initvec)\n"
   ]
  },
  {
   "cell_type": "code",
   "execution_count": null,
   "metadata": {
    "collapsed": true
   },
   "outputs": [],
   "source": []
  }
 ],
 "metadata": {
  "kernelspec": {
   "display_name": "Python 3",
   "language": "python",
   "name": "python3"
  },
  "language_info": {
   "codemirror_mode": {
    "name": "ipython",
    "version": 3
   },
   "file_extension": ".py",
   "mimetype": "text/x-python",
   "name": "python",
   "nbconvert_exporter": "python",
   "pygments_lexer": "ipython3",
   "version": "3.5.4"
  }
 },
 "nbformat": 4,
 "nbformat_minor": 2
}
