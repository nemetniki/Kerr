{
 "cells": [
  {
   "cell_type": "code",
   "execution_count": 1,
   "metadata": {},
   "outputs": [
    {
     "name": "stdout",
     "output_type": "stream",
     "text": [
      "(5,) 136\n",
      "(1, 5, 1) 128\n",
      "[[[ 0.56417186]\n",
      "  [ 0.32543807]\n",
      "  [ 0.61352298]\n",
      "  [ 0.90632631]\n",
      "  [ 0.22683989]]]\n",
      "[[[ 0.]\n",
      "  [ 0.]\n",
      "  [ 0.]\n",
      "  [ 0.]\n",
      "  [ 0.]]]\n"
     ]
    }
   ],
   "source": [
    "import numpy as np\n",
    "import scipy as sc\n",
    "import opt_einsum as oe\n",
    "from sys import getsizeof\n",
    "\n",
    "a = np.random.rand(5)\n",
    "print(a.shape,getsizeof(a))\n",
    "a = a[np.newaxis,:,np.newaxis]\n",
    "print(a.shape,getsizeof(a))\n",
    "print(a)\n",
    "print(np.zeros((1,5,1)))"
   ]
  },
  {
   "cell_type": "code",
   "execution_count": 83,
   "metadata": {},
   "outputs": [
    {
     "name": "stdout",
     "output_type": "stream",
     "text": [
      "0j\n",
      "  (0, 0)\t(0.0933323417873-1.2818671828e-15j)\n",
      "  (1, 0)\t(-3.80593223521e-15+0.445557520927j)\n",
      "  (2, 0)\t(0.499411758874+4.49746986923e-15j)\n",
      "  (3, 0)\t(9.34197156593e-16-0.347141532462j)\n",
      "  (4, 0)\t(-0.117855958061-7.88856802668e-17j)\n",
      "  (5, 0)\t(1.16712399625e-15-0.178830143578j)\n",
      "  (6, 0)\t(-0.253910788158-2.22399360329e-15j)\n",
      "  (7, 0)\t(-2.26986784798e-15+0.259268134231j)\n",
      "  (8, 0)\t(0.206843161197+1.25042178109e-15j)\n",
      "  (9, 0)\t(1.0163208249e-15-0.125437262053j)\n",
      "  (10, 0)\t(-0.0808026554793-4.49496459483e-16j)\n",
      "  (11, 0)\t(-2.40618026409e-16+0.0369116863047j)\n",
      "  (12, 0)\t(0.0206918040824+1.29944657075e-16j)\n",
      "  (13, 0)\t(4.74492091198e-17-0.00771192893641j)\n",
      "  (14, 0)\t(-0.00389105029246-2.17950267193e-17j)\n",
      "  (15, 0)\t(-6.09005517272e-18+0.00123347262373j)\n",
      "  (16, 0)\t(0.000571301126962+1.85642795786e-18j)\n",
      "  (17, 0)\t(3.53970066945e-19-0.000158119936968j)\n",
      "  (18, 0)\t(-6.81165652779e-05-6.82877171488e-20j)\n",
      "  (19, 0)\t(-2.50717637754e-20+1.6762595932e-05j)\n",
      "  (20, 0)\t(6.77984366552e-06+1.30458238375e-20j)\n",
      "  (21, 0)\t(9.26363201934e-22-1.50359968979e-06j)\n",
      "  (22, 0)\t(-5.75013755203e-07-1.36683153935e-21j)\n",
      "  (23, 0)\t(-3.65956861299e-22+1.16125695491e-07j)\n",
      "  (24, 0)\t(4.22169770837e-08+1.57130149094e-22j)\n",
      "  :\t:\n",
      "  (48, 11730)\t(1.98468726358e-109-9.11706165982e-111j)\n",
      "  (49, 11730)\t(-4.83240246269e-112-9.01397782581e-111j)\n",
      "  (50, 11730)\t(-4.07483944141e-112+5.24782411683e-113j)\n",
      "  (51, 11730)\t(-2.39992726022e-115-8.79660696744e-113j)\n",
      "  (52, 11730)\t(-4.84900690539e-113+1.0667253604e-114j)\n",
      "  (53, 11730)\t(1.44542686385e-115+5.41871602515e-114j)\n",
      "  (54, 11730)\t(1.62129029774e-114-4.69641304565e-116j)\n",
      "  (55, 11730)\t(-4.22251349839e-117-1.3993057555e-115j)\n",
      "  (56, 11730)\t(-3.55886913971e-116+1.10268896688e-117j)\n",
      "  (57, 11730)\t(8.55488229166e-119+2.71593388796e-117j)\n",
      "  (58, 11730)\t(6.28514883391e-118-2.00362401845e-119j)\n",
      "  (59, 11730)\t(-1.41080210234e-120-4.38938974585e-119j)\n",
      "  (60, 11730)\t(-9.44318228764e-120+3.05402923863e-121j)\n",
      "  (61, 11730)\t(1.98407192421e-122+6.10737698238e-121j)\n",
      "  (62, 11730)\t(1.22980624924e-121-4.00892740206e-123j)\n",
      "  (63, 11730)\t(-2.41314789981e-124-7.38296402159e-123j)\n",
      "  (64, 11730)\t(-1.3891112509e-123+4.55016944993e-125j)\n",
      "  (65, 11730)\t(2.52655472973e-126+7.69745906679e-125j)\n",
      "  (66, 11730)\t(1.33720720632e-125-4.39844575505e-127j)\n",
      "  (67, 11730)\t(-2.21296052388e-128-6.70885484368e-127j)\n",
      "  (68, 11730)\t(-1.03808746474e-127+3.43879092861e-129j)\n",
      "  (69, 11730)\t(1.47833456199e-130+4.42927056609e-129j)\n",
      "  (70, 11730)\t(5.27372505256e-130-1.79045209671e-131j)\n",
      "  (71, 11730)\t(-8.31638432801e-133-2.29967853386e-131j)\n",
      "  (72, 11730)\t(-2.10874677884e-132+8.81245216526e-134j)\n",
      "(-3.80500915068e-15+0.445557520933j)\n",
      "(-3.75798870878e-15+0.445557520927j)\n",
      "[  6.66133815e-16   8.32667268e-16   0.00000000e+00   0.00000000e+00\n",
      "   1.04083409e-17   4.51028104e-17   9.23740251e-17   1.50061407e-14\n",
      "  -4.66746880e-06]\n",
      "[  9.06490196e-01   4.11696612e-01   7.82808364e-02   4.66128544e-02\n",
      "   2.07215271e-02   6.81793478e-03   1.61798244e-03   3.00445208e-05\n",
      "   0.00000000e+00]\n"
     ]
    }
   ],
   "source": [
    "from scipy.linalg import svd\n",
    "import scipy.sparse as ss\n",
    "from scipy.sparse.linalg import svds\n",
    "\n",
    "#a = np.zeros((20,1000),complex)\n",
    "#a += np.random.rand(20,1000)\n",
    "#a+= 1j*np.random.rand(20,1000)\n",
    "#print(a.shape)\n",
    "def conv(x):\n",
    "    return x.replace('+-', '-').encode()\n",
    "\n",
    "a = np.genfromtxt((conv(x) for x in open(\"./mat.txt\")),dtype=complex)\n",
    "print(a[80,80])\n",
    "res1 = svd(a,full_matrices=False)\n",
    "#print(res1)\n",
    "b = ss.csc_matrix(a)\n",
    "print(b)\n",
    "lim = 9\n",
    "res = svds(b,lim,which=\"LM\",tol = 10**(-10))\n",
    "print(np.einsum(\"ij,jk->ik\",np.einsum(\"ij,j->ij\",res[0],res[1]),res[2])[1,0])\n",
    "print(np.einsum(\"ij,jk->ik\",np.einsum(\"ij,j->ij\",res1[0],res1[1]),res1[2])[1,0])\n",
    "print(res[1]-res1[1][:lim])\n",
    "print(res[1])"
   ]
  },
  {
   "cell_type": "code",
   "execution_count": 87,
   "metadata": {},
   "outputs": [
    {
     "name": "stdout",
     "output_type": "stream",
     "text": [
      "(5+0j)\n"
     ]
    }
   ],
   "source": [
    "def conv(x):\n",
    "    return x.replace('+-', '-').encode()\n",
    "\n",
    "k = np.genfromtxt((conv(x) for x in open(\"./k.txt\")),dtype=complex)\n",
    "print(np.max(k))"
   ]
  },
  {
   "cell_type": "code",
   "execution_count": 14,
   "metadata": {},
   "outputs": [
    {
     "name": "stdout",
     "output_type": "stream",
     "text": [
      "[[[ 0.10027431]\n",
      "  [ 0.61864438]\n",
      "  [ 0.90004867]\n",
      "  [ 0.9991721 ]\n",
      "  [ 0.62443983]]]\n",
      "[[ 0.10027431  0.61864438  0.90004867  0.9991721   0.62443983]]\n"
     ]
    }
   ],
   "source": [
    "len(a.shape)==a.ndim\n",
    "b=np.array([5,])\n",
    "b.size\n",
    "print(a)\n",
    "print(np.einsum(\"ijk->ij\",a))\n",
    "a,b=None,None"
   ]
  },
  {
   "cell_type": "code",
   "execution_count": 23,
   "metadata": {},
   "outputs": [
    {
     "data": {
      "text/plain": [
       "array([[[ 0.],\n",
       "        [ 0.],\n",
       "        [ 0.],\n",
       "        [ 0.],\n",
       "        [ 0.]]])"
      ]
     },
     "execution_count": 23,
     "metadata": {},
     "output_type": "execute_result"
    }
   ],
   "source": [
    "lista=[np.zeros((1,5,1))]*10\n",
    "lista[2]"
   ]
  },
  {
   "cell_type": "code",
   "execution_count": 19,
   "metadata": {},
   "outputs": [
    {
     "data": {
      "text/plain": [
       "array([ 2.75203221,  1.23596526,  0.69681136,  0.46965487,  0.01757523])"
      ]
     },
     "execution_count": 19,
     "metadata": {},
     "output_type": "execute_result"
    }
   ],
   "source": [
    "c = np.random.rand(5,5)\n",
    "d = np.random.rand(5)\n",
    "\n",
    "from scipy.linalg import svd\n",
    "s = svd(c)\n",
    "s[1]"
   ]
  },
  {
   "cell_type": "code",
   "execution_count": 23,
   "metadata": {},
   "outputs": [
    {
     "data": {
      "text/plain": [
       "array([[ True,  True,  True,  True,  True,  True,  True,  True,  True,\n",
       "         True,  True,  True,  True,  True,  True,  True,  True,  True,\n",
       "         True,  True,  True,  True,  True,  True,  True,  True,  True,\n",
       "         True,  True,  True],\n",
       "       [ True,  True,  True,  True,  True,  True,  True,  True,  True,\n",
       "         True,  True,  True,  True,  True,  True,  True,  True,  True,\n",
       "         True,  True,  True,  True,  True,  True,  True,  True,  True,\n",
       "         True,  True,  True],\n",
       "       [ True,  True,  True,  True,  True,  True,  True,  True,  True,\n",
       "         True,  True,  True,  True,  True,  True,  True,  True,  True,\n",
       "         True,  True,  True,  True,  True,  True,  True,  True,  True,\n",
       "         True,  True,  True],\n",
       "       [ True,  True,  True,  True,  True,  True,  True,  True,  True,\n",
       "         True,  True,  True,  True,  True,  True,  True,  True,  True,\n",
       "         True,  True,  True,  True,  True,  True,  True,  True,  True,\n",
       "         True,  True,  True],\n",
       "       [ True,  True,  True,  True,  True,  True,  True,  True,  True,\n",
       "         True,  True,  True,  True,  True,  True,  True,  True,  True,\n",
       "         True,  True,  True,  True,  True,  True,  True,  True,  True,\n",
       "         True,  True,  True],\n",
       "       [ True,  True,  True,  True,  True,  True,  True,  True,  True,\n",
       "         True,  True,  True,  True,  True,  True,  True,  True,  True,\n",
       "         True,  True,  True,  True,  True,  True,  True,  True,  True,\n",
       "         True,  True,  True],\n",
       "       [ True,  True,  True,  True,  True,  True,  True,  True,  True,\n",
       "         True,  True,  True,  True,  True,  True,  True,  True,  True,\n",
       "         True,  True,  True,  True,  True,  True,  True,  True,  True,\n",
       "         True,  True,  True],\n",
       "       [ True,  True,  True,  True,  True,  True,  True,  True,  True,\n",
       "         True,  True,  True,  True,  True,  True,  True,  True,  True,\n",
       "         True,  True,  True,  True,  True,  True,  True,  True,  True,\n",
       "         True,  True,  True],\n",
       "       [ True,  True,  True,  True,  True,  True,  True,  True,  True,\n",
       "         True,  True,  True,  True,  True,  True,  True,  True,  True,\n",
       "         True,  True,  True,  True,  True,  True,  True,  True,  True,\n",
       "         True,  True,  True],\n",
       "       [ True,  True,  True,  True,  True,  True,  True,  True,  True,\n",
       "         True,  True,  True,  True,  True,  True,  True,  True,  True,\n",
       "         True,  True,  True,  True,  True,  True,  True,  True,  True,\n",
       "         True,  True,  True],\n",
       "       [ True,  True,  True,  True,  True,  True,  True,  True,  True,\n",
       "         True,  True,  True,  True,  True,  True,  True,  True,  True,\n",
       "         True,  True,  True,  True,  True,  True,  True,  True,  True,\n",
       "         True,  True,  True],\n",
       "       [ True,  True,  True,  True,  True,  True,  True,  True,  True,\n",
       "         True,  True,  True,  True,  True,  True,  True,  True,  True,\n",
       "         True,  True,  True,  True,  True,  True,  True,  True,  True,\n",
       "         True,  True,  True]], dtype=bool)"
      ]
     },
     "execution_count": 23,
     "metadata": {},
     "output_type": "execute_result"
    }
   ],
   "source": [
    "d4 = np.random.rand(3,4,5,6)\n",
    "\n",
    "d3=d4.reshape(3,4,5*6)\n",
    "d2 = d3.reshape(3*4,30)\n",
    "#print(d2)\n",
    "dims=np.array([12,30])\n",
    "d1 = d4.reshape(dims)\n",
    "d2==d1"
   ]
  },
  {
   "cell_type": "code",
   "execution_count": 36,
   "metadata": {},
   "outputs": [
    {
     "name": "stdout",
     "output_type": "stream",
     "text": [
      "[ 0  1  2  3  4  5  6  7  8  9 10 11 12 13 14 15 16 17 18 19 20 21 22 23 24\n",
      " 25 26 27 28 29]\n",
      "[0 0 0 0 0 1 1 1 1 1 2 2 2 2 2 3 3 3 3 3 4 4 4 4 4 5 5 5 5 5]\n",
      "[0 0 0 0 0 1 1 1 1 1 2 2 2 2 2 3 3 3 3 3 4 4 4 4 4 5 5 5 5 5]\n"
     ]
    }
   ],
   "source": [
    "print(np.arange(0,30))\n",
    "print(np.array((np.arange(0,30)-np.arange(0,30)%5)/5,dtype=int))\n",
    "print((np.arange(0,30)/5).astype(int))"
   ]
  },
  {
   "cell_type": "code",
   "execution_count": 43,
   "metadata": {},
   "outputs": [
    {
     "name": "stdout",
     "output_type": "stream",
     "text": [
      "[[[ 0.59996733  0.3870639   0.27129489  0.24032532  0.15160028]\n",
      "  [ 0.91523141  0.43803072  0.28431341  0.20243107  0.96854814]\n",
      "  [ 0.32872583  0.17052641  0.65064574  0.7853942   0.27661472]]\n",
      "\n",
      " [[ 0.79766917  0.35947929  0.78463312  0.23390513  0.65474452]\n",
      "  [ 0.30169344  0.55329632  0.51631014  0.94432027  0.04931298]\n",
      "  [ 0.74598599  0.66947354  0.47811673  0.89854222  0.30700134]]\n",
      "\n",
      " [[ 0.92362174  0.62325496  0.20611013  0.24306962  0.72986035]\n",
      "  [ 0.62784356  0.95958975  0.79265664  0.25144865  0.56407222]\n",
      "  [ 0.42395383  0.96107925  0.03234318  0.79398795  0.16037362]]\n",
      "\n",
      " [[ 0.43125649  0.86191912  0.62273183  0.83216351  0.96896033]\n",
      "  [ 0.42561207  0.43359524  0.66758813  0.97781804  0.36644919]\n",
      "  [ 0.08642409  0.86108408  0.10306032  0.80762812  0.47940297]]]\n",
      "3.5 µs ± 19 ns per loop (mean ± std. dev. of 7 runs, 100000 loops each)\n",
      "7.69 µs ± 42 ns per loop (mean ± std. dev. of 7 runs, 100000 loops each)\n"
     ]
    }
   ],
   "source": [
    "a=np.random.rand(4,3,5)\n",
    "print(a)\n",
    "b=np.zeros(a.shape,complex)\n",
    "%timeit b[1:3,0,0]=2*a[0:2,0,0]\n",
    "\n",
    "%timeit b[1:3,0,0]+=2*a[0:2,0,0]"
   ]
  },
  {
   "cell_type": "code",
   "execution_count": 61,
   "metadata": {},
   "outputs": [
    {
     "name": "stdout",
     "output_type": "stream",
     "text": [
      "[1 2 3 4]\n",
      "[1 1 1 1 2 2 2 2 3 3 3 3]\n",
      "[1 1 1 1 1 2 2 2 2 2 3 3 3 3 3 4 4 4 4 4]\n"
     ]
    }
   ],
   "source": [
    "N_env=5\n",
    "print(np.arange(1,N_env))\n",
    "print(((np.linspace(0,(N_env-1)**2-1,(N_env-1)**2)/(N_env-1)).astype(int)+1)[0:(-N_env+1)])\n",
    "print((np.arange(0,N_env*(N_env-1))/N_env).astype(np.int64)+1)\n",
    "\n",
    "#%timeit ((np.arange(N_env,N_env*(N_env+1))/N_env).astype(int))\n",
    "\n",
    "#%timeit (np.arange(0,N_env**2)/N_env).astype(int)+1"
   ]
  },
  {
   "cell_type": "code",
   "execution_count": 56,
   "metadata": {},
   "outputs": [
    {
     "name": "stdout",
     "output_type": "stream",
     "text": [
      "[0 0 1 1 2 2 3 3 4 4 5]\n",
      "[0 0 1 1 2 2 3 3 4 4 5]\n"
     ]
    }
   ],
   "source": [
    "dim_tS = 11\n",
    "print(np.linspace(0,int((dim_tS)/2),dim_tS).astype(np.int64))\n",
    "print((np.arange(0,dim_tS)/2).astype(np.int64))"
   ]
  },
  {
   "cell_type": "code",
   "execution_count": 38,
   "metadata": {},
   "outputs": [
    {
     "name": "stdout",
     "output_type": "stream",
     "text": [
      "(1, 7, 1)\n",
      "[[[  9.51229425e-01]\n",
      "  [  3.00805156e-01]\n",
      "  [  6.72620777e-02]\n",
      "  [  1.22803191e-02]\n",
      "  [  1.94168893e-03]\n",
      "  [  2.74596282e-04]\n",
      "  [  3.54502276e-05]]]\n"
     ]
    }
   ],
   "source": [
    "from math import factorial\n",
    "\n",
    "def coherent(n,phi,dim):\n",
    "    array = np.zeros(dim)\n",
    "    for i in range(dim):\n",
    "        array[i] = np.exp(-n/2)*(np.sqrt(n)*np.exp(phi))**i/np.sqrt(float(factorial(i)))\n",
    "    return array\n",
    "initenv    = np.zeros((1,7,1),complex)\n",
    "initenv = coherent(.1,0,7)[np.newaxis,:,np.newaxis]\n",
    "print(initenv.shape)\n",
    "print(initenv)"
   ]
  },
  {
   "cell_type": "code",
   "execution_count": 40,
   "metadata": {},
   "outputs": [
    {
     "data": {
      "text/plain": [
       "array([[[  9.51229425e-01],\n",
       "        [  3.00805156e-01],\n",
       "        [  6.72620777e-02],\n",
       "        [  1.22803191e-02],\n",
       "        [  1.94168893e-03],\n",
       "        [  2.74596282e-04],\n",
       "        [  3.54502276e-05]]])"
      ]
     },
     "execution_count": 40,
     "metadata": {},
     "output_type": "execute_result"
    }
   ],
   "source": [
    "initenv/np.sqrt(np.sum(initenv**2))"
   ]
  },
  {
   "cell_type": "code",
   "execution_count": 47,
   "metadata": {},
   "outputs": [
    {
     "name": "stdout",
     "output_type": "stream",
     "text": [
      "5\n",
      "2.08167392129\n",
      "2.08167392129\n"
     ]
    }
   ],
   "source": [
    "a = np.random.rand(1,5,1)\n",
    "print(a.size)\n",
    "print(np.sum(a))\n",
    "print(np.sum(a[0,:,0]))"
   ]
  },
  {
   "cell_type": "code",
   "execution_count": 50,
   "metadata": {},
   "outputs": [
    {
     "name": "stdout",
     "output_type": "stream",
     "text": [
      "5 7 5\n"
     ]
    }
   ],
   "source": [
    "dim_a,dim_initenv,dim_c = a.shape[1],initenv.shape[1],a.shape[1]\n",
    "print(dim_a, dim_initenv,dim_c)"
   ]
  },
  {
   "cell_type": "code",
   "execution_count": 61,
   "metadata": {},
   "outputs": [
    {
     "name": "stdout",
     "output_type": "stream",
     "text": [
      "(5, 1)\n"
     ]
    }
   ],
   "source": [
    "ind=2\n",
    "text = None\n",
    "b=a[0,:,:]\n",
    "print(b.shape)"
   ]
  },
  {
   "cell_type": "code",
   "execution_count": 63,
   "metadata": {},
   "outputs": [
    {
     "data": {
      "text/plain": [
       "array([[ 0.9479183]])"
      ]
     },
     "execution_count": 63,
     "metadata": {},
     "output_type": "execute_result"
    }
   ],
   "source": [
    "a[0:1,2,0:1]"
   ]
  },
  {
   "cell_type": "code",
   "execution_count": 103,
   "metadata": {},
   "outputs": [
    {
     "name": "stdout",
     "output_type": "stream",
     "text": [
      "1.0\n",
      "[[ 0.08496519  0.0533627   0.10238228  0.05629309]\n",
      " [ 0.01513643  0.00950649  0.01823926  0.01002853]\n",
      " [ 0.07788368  0.04891514  0.09384914  0.05160129]\n",
      " [ 0.06955452  0.04368398  0.08381257  0.04608286]\n",
      " [ 0.03853511  0.02420212  0.04643446  0.02553117]]\n",
      "[[ 0.08496519  0.0533627   0.10238228  0.05629309]\n",
      " [ 0.01513643  0.00950649  0.01823926  0.01002853]\n",
      " [ 0.07788368  0.04891514  0.09384914  0.05160129]\n",
      " [ 0.06955452  0.04368398  0.08381257  0.04608286]\n",
      " [ 0.03853511  0.02420212  0.04643446  0.02553117]]\n",
      "[[-2.03115684]\n",
      " [-2.03115684]\n",
      " [-2.03115684]\n",
      " [-2.03115684]\n",
      " [-2.03115684]]\n",
      "[[-0.49233027 -0.49233027 -0.49233027 -0.49233027]]\n"
     ]
    }
   ],
   "source": [
    "from scipy.linalg import svd\n",
    "b=np.random.rand(5)#np.array([1,0,0,0,0])#\n",
    "b=b/np.sum(b)\n",
    "c=np.random.rand(4)#np.array([0,0,0,1])#\n",
    "c=c/np.sum(c)\n",
    "d=np.tensordot(b,c,axes=0)\n",
    "print(np.sum(d))\n",
    "#d=d/np.sum(d)\n",
    "svds=svd(d,full_matrices=False)\n",
    "#print(svds)\n",
    "e1=svds[0][:,:1]\n",
    "e2 = np.diag(svds[1][:1])\n",
    "e3 = svds[2][:1,:]\n",
    "print(oe.contract(\"ij,jk,kl->il\",e1,e2,e3))\n",
    "print(d)\n",
    "print(e1/b.reshape(b.size,1))\n",
    "print(oe.contract(\"ij,jk\",e2,e3)/c)"
   ]
  },
  {
   "cell_type": "code",
   "execution_count": null,
   "metadata": {
    "collapsed": true
   },
   "outputs": [],
   "source": []
  }
 ],
 "metadata": {
  "anaconda-cloud": {},
  "kernelspec": {
   "display_name": "Python 3",
   "language": "python",
   "name": "python3"
  },
  "language_info": {
   "codemirror_mode": {
    "name": "ipython",
    "version": 3
   },
   "file_extension": ".py",
   "mimetype": "text/x-python",
   "name": "python",
   "nbconvert_exporter": "python",
   "pygments_lexer": "ipython3",
   "version": "3.5.5"
  }
 },
 "nbformat": 4,
 "nbformat_minor": 1
}
