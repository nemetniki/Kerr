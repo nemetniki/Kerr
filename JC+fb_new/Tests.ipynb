{
 "cells": [
  {
   "cell_type": "code",
   "execution_count": 1,
   "metadata": {},
   "outputs": [
    {
     "name": "stdout",
     "output_type": "stream",
     "text": [
      "(5,) 136\n",
      "(1, 5, 1) 128\n",
      "[[[ 0.10027431]\n",
      "  [ 0.61864438]\n",
      "  [ 0.90004867]\n",
      "  [ 0.9991721 ]\n",
      "  [ 0.62443983]]]\n",
      "[[[ 0.]\n",
      "  [ 0.]\n",
      "  [ 0.]\n",
      "  [ 0.]\n",
      "  [ 0.]]]\n"
     ]
    }
   ],
   "source": [
    "import numpy as np\n",
    "import scipy as sc\n",
    "import opt_einsum as oe\n",
    "from sys import getsizeof\n",
    "\n",
    "a = np.random.rand(5)\n",
    "print(a.shape,getsizeof(a))\n",
    "a = a[np.newaxis,:,np.newaxis]\n",
    "print(a.shape,getsizeof(a))\n",
    "print(a)\n",
    "print(np.zeros((1,5,1)))"
   ]
  },
  {
   "cell_type": "code",
   "execution_count": 14,
   "metadata": {},
   "outputs": [
    {
     "name": "stdout",
     "output_type": "stream",
     "text": [
      "[[[ 0.10027431]\n",
      "  [ 0.61864438]\n",
      "  [ 0.90004867]\n",
      "  [ 0.9991721 ]\n",
      "  [ 0.62443983]]]\n",
      "[[ 0.10027431  0.61864438  0.90004867  0.9991721   0.62443983]]\n"
     ]
    }
   ],
   "source": [
    "len(a.shape)==a.ndim\n",
    "b=np.array([5,])\n",
    "b.size\n",
    "print(a)\n",
    "print(np.einsum(\"ijk->ij\",a))\n",
    "a,b=None,None"
   ]
  },
  {
   "cell_type": "code",
   "execution_count": 23,
   "metadata": {},
   "outputs": [
    {
     "data": {
      "text/plain": [
       "array([[[ 0.],\n",
       "        [ 0.],\n",
       "        [ 0.],\n",
       "        [ 0.],\n",
       "        [ 0.]]])"
      ]
     },
     "execution_count": 23,
     "metadata": {},
     "output_type": "execute_result"
    }
   ],
   "source": [
    "lista=[np.zeros((1,5,1))]*10\n",
    "lista[2]"
   ]
  },
  {
   "cell_type": "code",
   "execution_count": 19,
   "metadata": {},
   "outputs": [
    {
     "data": {
      "text/plain": [
       "array([ 2.75203221,  1.23596526,  0.69681136,  0.46965487,  0.01757523])"
      ]
     },
     "execution_count": 19,
     "metadata": {},
     "output_type": "execute_result"
    }
   ],
   "source": [
    "c = np.random.rand(5,5)\n",
    "d = np.random.rand(5)\n",
    "\n",
    "from scipy.linalg import svd\n",
    "s = svd(c)\n",
    "s[1]"
   ]
  },
  {
   "cell_type": "code",
   "execution_count": 23,
   "metadata": {},
   "outputs": [
    {
     "data": {
      "text/plain": [
       "array([[ True,  True,  True,  True,  True,  True,  True,  True,  True,\n",
       "         True,  True,  True,  True,  True,  True,  True,  True,  True,\n",
       "         True,  True,  True,  True,  True,  True,  True,  True,  True,\n",
       "         True,  True,  True],\n",
       "       [ True,  True,  True,  True,  True,  True,  True,  True,  True,\n",
       "         True,  True,  True,  True,  True,  True,  True,  True,  True,\n",
       "         True,  True,  True,  True,  True,  True,  True,  True,  True,\n",
       "         True,  True,  True],\n",
       "       [ True,  True,  True,  True,  True,  True,  True,  True,  True,\n",
       "         True,  True,  True,  True,  True,  True,  True,  True,  True,\n",
       "         True,  True,  True,  True,  True,  True,  True,  True,  True,\n",
       "         True,  True,  True],\n",
       "       [ True,  True,  True,  True,  True,  True,  True,  True,  True,\n",
       "         True,  True,  True,  True,  True,  True,  True,  True,  True,\n",
       "         True,  True,  True,  True,  True,  True,  True,  True,  True,\n",
       "         True,  True,  True],\n",
       "       [ True,  True,  True,  True,  True,  True,  True,  True,  True,\n",
       "         True,  True,  True,  True,  True,  True,  True,  True,  True,\n",
       "         True,  True,  True,  True,  True,  True,  True,  True,  True,\n",
       "         True,  True,  True],\n",
       "       [ True,  True,  True,  True,  True,  True,  True,  True,  True,\n",
       "         True,  True,  True,  True,  True,  True,  True,  True,  True,\n",
       "         True,  True,  True,  True,  True,  True,  True,  True,  True,\n",
       "         True,  True,  True],\n",
       "       [ True,  True,  True,  True,  True,  True,  True,  True,  True,\n",
       "         True,  True,  True,  True,  True,  True,  True,  True,  True,\n",
       "         True,  True,  True,  True,  True,  True,  True,  True,  True,\n",
       "         True,  True,  True],\n",
       "       [ True,  True,  True,  True,  True,  True,  True,  True,  True,\n",
       "         True,  True,  True,  True,  True,  True,  True,  True,  True,\n",
       "         True,  True,  True,  True,  True,  True,  True,  True,  True,\n",
       "         True,  True,  True],\n",
       "       [ True,  True,  True,  True,  True,  True,  True,  True,  True,\n",
       "         True,  True,  True,  True,  True,  True,  True,  True,  True,\n",
       "         True,  True,  True,  True,  True,  True,  True,  True,  True,\n",
       "         True,  True,  True],\n",
       "       [ True,  True,  True,  True,  True,  True,  True,  True,  True,\n",
       "         True,  True,  True,  True,  True,  True,  True,  True,  True,\n",
       "         True,  True,  True,  True,  True,  True,  True,  True,  True,\n",
       "         True,  True,  True],\n",
       "       [ True,  True,  True,  True,  True,  True,  True,  True,  True,\n",
       "         True,  True,  True,  True,  True,  True,  True,  True,  True,\n",
       "         True,  True,  True,  True,  True,  True,  True,  True,  True,\n",
       "         True,  True,  True],\n",
       "       [ True,  True,  True,  True,  True,  True,  True,  True,  True,\n",
       "         True,  True,  True,  True,  True,  True,  True,  True,  True,\n",
       "         True,  True,  True,  True,  True,  True,  True,  True,  True,\n",
       "         True,  True,  True]], dtype=bool)"
      ]
     },
     "execution_count": 23,
     "metadata": {},
     "output_type": "execute_result"
    }
   ],
   "source": [
    "d4 = np.random.rand(3,4,5,6)\n",
    "\n",
    "d3=d4.reshape(3,4,5*6)\n",
    "d2 = d3.reshape(3*4,30)\n",
    "#print(d2)\n",
    "dims=np.array([12,30])\n",
    "d1 = d4.reshape(dims)\n",
    "d2==d1"
   ]
  },
  {
   "cell_type": "code",
   "execution_count": 38,
   "metadata": {},
   "outputs": [
    {
     "name": "stdout",
     "output_type": "stream",
     "text": [
      "(1, 7, 1)\n",
      "[[[  9.51229425e-01]\n",
      "  [  3.00805156e-01]\n",
      "  [  6.72620777e-02]\n",
      "  [  1.22803191e-02]\n",
      "  [  1.94168893e-03]\n",
      "  [  2.74596282e-04]\n",
      "  [  3.54502276e-05]]]\n"
     ]
    }
   ],
   "source": [
    "from math import factorial\n",
    "\n",
    "def coherent(n,phi,dim):\n",
    "    array = np.zeros(dim)\n",
    "    for i in range(dim):\n",
    "        array[i] = np.exp(-n/2)*(np.sqrt(n)*np.exp(phi))**i/np.sqrt(float(factorial(i)))\n",
    "    return array\n",
    "initenv    = np.zeros((1,7,1),complex)\n",
    "initenv = coherent(.1,0,7)[np.newaxis,:,np.newaxis]\n",
    "print(initenv.shape)\n",
    "print(initenv)"
   ]
  },
  {
   "cell_type": "code",
   "execution_count": 40,
   "metadata": {},
   "outputs": [
    {
     "data": {
      "text/plain": [
       "array([[[  9.51229425e-01],\n",
       "        [  3.00805156e-01],\n",
       "        [  6.72620777e-02],\n",
       "        [  1.22803191e-02],\n",
       "        [  1.94168893e-03],\n",
       "        [  2.74596282e-04],\n",
       "        [  3.54502276e-05]]])"
      ]
     },
     "execution_count": 40,
     "metadata": {},
     "output_type": "execute_result"
    }
   ],
   "source": [
    "initenv/np.sqrt(np.sum(initenv**2))"
   ]
  },
  {
   "cell_type": "code",
   "execution_count": 47,
   "metadata": {},
   "outputs": [
    {
     "name": "stdout",
     "output_type": "stream",
     "text": [
      "5\n",
      "2.08167392129\n",
      "2.08167392129\n"
     ]
    }
   ],
   "source": [
    "a = np.random.rand(1,5,1)\n",
    "print(a.size)\n",
    "print(np.sum(a))\n",
    "print(np.sum(a[0,:,0]))"
   ]
  },
  {
   "cell_type": "code",
   "execution_count": 50,
   "metadata": {},
   "outputs": [
    {
     "name": "stdout",
     "output_type": "stream",
     "text": [
      "5 7 5\n"
     ]
    }
   ],
   "source": [
    "dim_a,dim_initenv,dim_c = a.shape[1],initenv.shape[1],a.shape[1]\n",
    "print(dim_a, dim_initenv,dim_c)"
   ]
  },
  {
   "cell_type": "code",
   "execution_count": 61,
   "metadata": {},
   "outputs": [
    {
     "name": "stdout",
     "output_type": "stream",
     "text": [
      "(5, 1)\n"
     ]
    }
   ],
   "source": [
    "ind=2\n",
    "text = None\n",
    "b=a[0,:,:]\n",
    "print(b.shape)"
   ]
  },
  {
   "cell_type": "code",
   "execution_count": 63,
   "metadata": {},
   "outputs": [
    {
     "data": {
      "text/plain": [
       "array([[ 0.9479183]])"
      ]
     },
     "execution_count": 63,
     "metadata": {},
     "output_type": "execute_result"
    }
   ],
   "source": [
    "a[0:1,2,0:1]"
   ]
  },
  {
   "cell_type": "code",
   "execution_count": 103,
   "metadata": {},
   "outputs": [
    {
     "name": "stdout",
     "output_type": "stream",
     "text": [
      "1.0\n",
      "[[ 0.08496519  0.0533627   0.10238228  0.05629309]\n",
      " [ 0.01513643  0.00950649  0.01823926  0.01002853]\n",
      " [ 0.07788368  0.04891514  0.09384914  0.05160129]\n",
      " [ 0.06955452  0.04368398  0.08381257  0.04608286]\n",
      " [ 0.03853511  0.02420212  0.04643446  0.02553117]]\n",
      "[[ 0.08496519  0.0533627   0.10238228  0.05629309]\n",
      " [ 0.01513643  0.00950649  0.01823926  0.01002853]\n",
      " [ 0.07788368  0.04891514  0.09384914  0.05160129]\n",
      " [ 0.06955452  0.04368398  0.08381257  0.04608286]\n",
      " [ 0.03853511  0.02420212  0.04643446  0.02553117]]\n",
      "[[-2.03115684]\n",
      " [-2.03115684]\n",
      " [-2.03115684]\n",
      " [-2.03115684]\n",
      " [-2.03115684]]\n",
      "[[-0.49233027 -0.49233027 -0.49233027 -0.49233027]]\n"
     ]
    }
   ],
   "source": [
    "from scipy.linalg import svd\n",
    "b=np.random.rand(5)#np.array([1,0,0,0,0])#\n",
    "b=b/np.sum(b)\n",
    "c=np.random.rand(4)#np.array([0,0,0,1])#\n",
    "c=c/np.sum(c)\n",
    "d=np.tensordot(b,c,axes=0)\n",
    "print(np.sum(d))\n",
    "#d=d/np.sum(d)\n",
    "svds=svd(d,full_matrices=False)\n",
    "#print(svds)\n",
    "e1=svds[0][:,:1]\n",
    "e2 = np.diag(svds[1][:1])\n",
    "e3 = svds[2][:1,:]\n",
    "print(oe.contract(\"ij,jk,kl->il\",e1,e2,e3))\n",
    "print(d)\n",
    "print(e1/b.reshape(b.size,1))\n",
    "print(oe.contract(\"ij,jk\",e2,e3)/c)"
   ]
  },
  {
   "cell_type": "code",
   "execution_count": null,
   "metadata": {
    "collapsed": true
   },
   "outputs": [],
   "source": []
  }
 ],
 "metadata": {
  "anaconda-cloud": {},
  "kernelspec": {
   "display_name": "Python 3",
   "language": "python",
   "name": "python3"
  },
  "language_info": {
   "codemirror_mode": {
    "name": "ipython",
    "version": 3
   },
   "file_extension": ".py",
   "mimetype": "text/x-python",
   "name": "python",
   "nbconvert_exporter": "python",
   "pygments_lexer": "ipython3",
   "version": "3.5.4"
  }
 },
 "nbformat": 4,
 "nbformat_minor": 1
}
