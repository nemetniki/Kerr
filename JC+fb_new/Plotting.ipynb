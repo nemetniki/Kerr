{
 "cells": [
  {
   "cell_type": "code",
   "execution_count": 1,
   "metadata": {
    "collapsed": true
   },
   "outputs": [],
   "source": [
    "#%matplotlib inline\n",
    "import numpy as np\n",
    "import scipy as sc\n",
    "import matplotlib.pyplot as plt\n",
    "from scipy.linalg import svd\n",
    "import matplotlib as mpl\n",
    "import time\n",
    "import sys\n",
    "from math import factorial\n",
    "mpl.rcParams['mathtext.fontset'] = 'cm'\n",
    "mpl.rcParams['mathtext.rm'] = 'serif'\n",
    "mpl.rc('font',family='FreeSerif')\n",
    "mpl.rc('xtick',labelsize=30)\n",
    "mpl.rc('ytick',labelsize=30)\n",
    "\n",
    "### Linestyles ###\n",
    "colors={'red':(241/255.,88/255.,84/255.),\\\n",
    "        'orange':(250/255,164/255.,58/255.),\\\n",
    "        'pink':(241/255,124/255.,176/255.),\\\n",
    "        'brown':(178/255,145/255.,47/255.),\\\n",
    "        'purple':(178/255,118/255.,178/255.),\\\n",
    "        'green':(96/255,189/255.,104/255.),\\\n",
    "        'darkgreen':(70/255,165/255.,80/255.),\\\n",
    "        'blue':(93/255,165/255.,218/255.),\\\n",
    "        'darkblue':(70/255,140/255.,195/255.),\\\n",
    "        'yellow':(222/255., 207/255., 63/255),\\\n",
    "        'black':(0.,0.,0.)}\n",
    "collab = ['brown','green','blue','pink',\"orange\",'black']\n",
    "linewidth = [2,2,3,3,4]\n",
    "linestyle = ['solid','dashed','dashdot','dotted','solid']"
   ]
  },
  {
   "cell_type": "code",
   "execution_count": 45,
   "metadata": {},
   "outputs": [
    {
     "name": "stderr",
     "output_type": "stream",
     "text": [
      "C:\\Anaconda\\envs\\py35\\lib\\site-packages\\numpy\\core\\numeric.py:531: ComplexWarning: Casting complex values to real discards the imaginary part\n",
      "  return array(a, dtype, copy=False, order=order)\n"
     ]
    },
    {
     "data": {
      "text/plain": [
       "[<matplotlib.lines.Line2D at 0x2c0408f5c50>]"
      ]
     },
     "execution_count": 45,
     "metadata": {},
     "output_type": "execute_result"
    },
    {
     "data": {
      "image/png": "[encoded data removed]",
      "text/plain": [
       "<matplotlib.figure.Figure at 0x2c04095eeb8>"
      ]
     },
     "metadata": {},
     "output_type": "display_data"
    }
   ],
   "source": [
    "%matplotlib inline\n",
    "import numpy as np\n",
    "import matplotlib.pyplot as plt\n",
    "from io import StringIO\n",
    "from io import BytesIO\n",
    "import matplotlib as mpl\n",
    "mpl.rc('xtick',labelsize=15)\n",
    "mpl.rc('ytick',labelsize=15)\n",
    "\n",
    "\n",
    "def conv(x):\n",
    "    return x.replace('+-', '-').encode()\n",
    "\n",
    "Data1 = np.genfromtxt((conv(x) for x in open(\"./Data/JC3.txt\")),dtype=complex)\n",
    "Data1o = np.genfromtxt((conv(x) for x in open(\"../JC+fb/Data/JC+fb_gL=6283p1000_gR=6283p1000_g=31p10_phi=10p10pi_initind=4_ome=0p10_omc=0p10_L=50-2.txt\")),dtype=complex)\n",
    "\n",
    "t_1 = Data1[:,0]\n",
    "norm_1 = Data1[:,1]\n",
    "exc_1 = Data1[:,2]\n",
    "gr_1 = Data1[:,3]\n",
    "cav_1 = Data1[:,4]\n",
    "g2c_1 = Data1[:,5]\n",
    "g2_1 = Data1[:,6]\n",
    "NB_1 = Data1[:,7]\n",
    "NBout_1 = Data1[:,8]\n",
    "to_1 = Data1o[:,0]\n",
    "normo_1 = Data1o[:,1]\n",
    "exco_1 = Data1o[:,2]\n",
    "gro_1 = Data1o[:,3]\n",
    "cavo_1 = Data1o[:,4]\n",
    "g2co_1 = Data1o[:,5]\n",
    "g2o_1 = Data1o[:,6]\n",
    "NBo_1 = Data1o[:,7]\n",
    "NBouto_1 = Data1o[:,8]\n",
    "#plt.xlim(0,4)\n",
    "#plt.ylim (-0.005,0.145)\n",
    "plt.plot(t_1/2,cav_1,lw=3)\n",
    "plt.plot(to_1/2,cavo_1,ls=\"--\",lw=3)"
   ]
  },
  {
   "cell_type": "code",
   "execution_count": 1,
   "metadata": {},
   "outputs": [
    {
     "name": "stdout",
     "output_type": "stream",
     "text": [
      "3.5.4 |Continuum Analytics, Inc.| (default, Aug 14 2017, 13:41:13) [MSC v.1900 64 bit (AMD64)]\n"
     ]
    }
   ],
   "source": [
    "import sys\n",
    "print(sys.version)"
   ]
  },
  {
   "cell_type": "code",
   "execution_count": null,
   "metadata": {
    "collapsed": true
   },
   "outputs": [],
   "source": []
  }
 ],
 "metadata": {
  "kernelspec": {
   "display_name": "Python 3",
   "language": "python",
   "name": "python3"
  },
  "language_info": {
   "codemirror_mode": {
    "name": "ipython",
    "version": 3
   },
   "file_extension": ".py",
   "mimetype": "text/x-python",
   "name": "python",
   "nbconvert_exporter": "python",
   "pygments_lexer": "ipython3",
   "version": "3.5.4"
  }
 },
 "nbformat": 4,
 "nbformat_minor": 2
}
