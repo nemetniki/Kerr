{
 "cells": [
  {
   "cell_type": "markdown",
   "metadata": {
    "collapsed": true
   },
   "source": [
    "# MPS code"
   ]
  },
  {
   "cell_type": "markdown",
   "metadata": {},
   "source": [
    "## 1. Hamiltonian in the rotating frame\n",
    "\n",
    "The system Hamiltonian:\n",
    "\n",
    "\\begin{align}\n",
    "\\hat{H}_S=\\hbar\\Delta_c\\hat{c}^\\dagger\\hat{c} + \\hbar\\Delta_e\\hat{\\sigma}_+\\hat{\\sigma}_-\n",
    "            +\\hbar g\\left(\\hat{c}^\\dagger\\hat{\\sigma}_-+\\hat{\\sigma}_+\\hat{c}\\right)\n",
    "            +\\frac{\\hbar\\Omega_c}{2}\\left(\\hat{c}+\\hat{c}^\\dagger\\right)\n",
    "            +\\frac{\\hbar\\Omega_e}{2}\\left(\\hat{\\sigma}_-+\\hat{\\sigma}_+\\right)\n",
    "\\end{align}\n",
    "\n",
    "The interaction with the environment with feedback:\n",
    "\n",
    "\\begin{align}\n",
    "\\hat{H}_{fb}(t)=-i\\hbar\\left\\{\\left[\\sqrt{\\gamma_R}\\hat{b}(t-\\tau)e^{-i\\phi}+\\sqrt{\\gamma_L}\\hat{b}(t)\\right]\\hat{c}^\\dagger-\\left[\\sqrt{\\gamma_R}\\hat{b}^\\dagger(t-\\tau)e^{i\\phi}+\\sqrt{\\gamma_L}\\hat{b}^\\dagger(t)\\right]\\hat{c}\\right\\}\n",
    "\\end{align}\n",
    "\n",
    "where the feedback phase is\n",
    "\\begin{align}\n",
    "\\phi=\\pi-\\omega_L\\tau\n",
    "\\end{align}\n",
    "\n",
    "The bath is originally Markovain with\n",
    "\\begin{align}\n",
    "\\left[\\hat{b}(t),\\hat{b}^\\dagger(t^\\prime)\\right]=\\delta(t-t^\\prime)\n",
    "\\end{align}\n"
   ]
  },
  {
   "cell_type": "markdown",
   "metadata": {},
   "source": [
    "## 2. Time-evolution\n",
    "\n",
    "\\begin{align}\n",
    "|\\Psi(t_{k+1})\\rangle=U(t_{k+1},t_k)|\\Psi(t_k)\\rangle\n",
    "\\end{align}\n",
    "\n",
    "with $\\Psi$ written as a Matrix Product State. The time-evolution operator can be expanded as\n",
    "\\begin{align}\n",
    "U(t_{k+1},t_k) &= \\exp{\\left[-\\frac{i}{\\hbar}\\left(H_S\\Delta t+\\int_{t_k}^{t_{k+1}}H_{fb}(t)dt\\right)\\right]}\\\\\n",
    "{\\bf U}&=\\exp{\\left({\\bf M}_S+{\\bf M}_B\\right)} = \\sum_{n=0}^\\infty\\frac{1}{n!}\\left({\\bf M}_S+{\\bf M}_B\\right)^n\n",
    "\\end{align}\n",
    "where $t_k=k\\Delta t$ and $\\Delta B(t_k) = \\int_{t_k}^{t_{k+1}}b(t)dt$. This means that\n",
    "\\begin{align}\n",
    "\\left[\\Delta B(t_k),\\Delta B^\\dagger(t_j)\\right] = \\Delta t \\delta_{k,j}\n",
    "\\end{align}\n",
    "\n",
    "Therefore the different orders of the expansion above are:\n",
    "\\begin{align}\n",
    "{\\bf U} &=\\mathbb{1}+\\color{red}{{\\bf M}_B}+\\color{orange}{{\\bf M}_S+\\frac{1}{2}{\\bf M}_B^2}+\n",
    "            \\color{green}{\\frac{1}{2}\\left({\\bf M}_S{\\bf M}_B+{\\bf M}_B{\\bf M}_S\\right)+\\frac{1}{6}{\\bf M}_B^3}+\n",
    "            \\color{blue}{\\frac{1}{2}{\\bf M}_S^2+\\frac{1}{6}\\left({\\bf M}_S{\\bf M}_B^2+{\\bf M}_B{\\bf M}_S{\\bf M}_B+{\\bf M}_B^2{\\bf M}_S\\right)+\\frac{1}{24}{\\bf M}_B^4}+\\mathcal{O}(\\Delta t^{5/2})\n",
    "\\end{align}\n",
    "This means that to first order we have:\n",
    "<img src='U_mat2.jpg'>"
   ]
  },
  {
   "cell_type": "markdown",
   "metadata": {},
   "source": [
    "## 3. Test case #1: no feedback, no driving\n",
    "Let us consider a TLS on a waveguide. We need up to 4 photons in the environment and a system vector with size 2. $\\gamma_R=0, \\Omega_{TLS}=0$\n",
    "<img src='U_mat_TLS.png'>"
   ]
  },
  {
   "cell_type": "code",
   "execution_count": 120,
   "metadata": {
    "collapsed": false
   },
   "outputs": [
    {
     "name": "stdout",
     "output_type": "stream",
     "text": [
      "initial excitation: 1\n"
     ]
    },
    {
     "data": {
      "image/png": "[encoded data removed]",
      "text/plain": [
       "<matplotlib.figure.Figure at 0x134b1d8b828>"
      ]
     },
     "metadata": {},
     "output_type": "display_data"
    }
   ],
   "source": [
    "%matplotlib inline\n",
    "import numpy as np\n",
    "import scipy as sc\n",
    "import matplotlib.pyplot as plt\n",
    "from scipy.linalg import svd\n",
    "\n",
    "#index in the init list = timebin index: 0=16, ..., 15=1, 16=0, 17=S, 18=-1, 19=-2, 20=-3\n",
    "endt=100\n",
    "init = [0]*endt\n",
    "l=3\n",
    "initTLS = np.array([0,1]) #starting at |e>\n",
    "\n",
    "gamma_L = 1.\n",
    "Om_TLS  = 0.\n",
    "Delta_T = 0.\n",
    "dt      = .1\n",
    "# Initial state of the system\n",
    "init[endt-4] = initTLS\n",
    "\n",
    "### This function basically implements the formula above without feedback ###\n",
    "def U(tk,tS): #tk: time bin state at k, tS: state of S\n",
    "    U_m      = sc.eye(tk.size,tk.size,1)*np.sqrt(np.arange(0,tk.size)) # decreasing the number of photons in the environment bin with 1\n",
    "    #print(np.dot(U_m,tk))\n",
    "    U_p      = sc.eye(tk.size,tk.size,-1)*np.sqrt(np.arange(1,tk.size+1)) # increasing the number of photons in the environment bin with 1\n",
    "    #print(np.dot(U_p,tk))\n",
    "    sm       = sc.eye(2,2,1) # sigma_-\n",
    "    sp       = sc.eye(2,2,-1) # sigma_+\n",
    "    \n",
    "    ### Different terms in U ###\n",
    "    T_0      = np.tensordot(tk,tS,0) #identity operation\n",
    "    T_sqdt_1 = -1j*np.sqrt(dt)*np.tensordot(np.dot(U_m,tk),np.dot(sp,tS),0)*np.sqrt(gamma_L)\n",
    "    T_sqdt_2 = 1j*np.sqrt(dt)*np.tensordot(np.dot(U_p,tk),np.dot(sm,tS),0)*np.sqrt(gamma_L)\n",
    "    T_dt_S_1 = -1j*dt*Delta_T*np.tensordot(tk,np.dot(np.array([[0,0],[0,1]]),tS),0)\n",
    "    T_dt_S_2 = -1j*dt*Om_TLS*np.tensordot(tk,np.dot(sp,tS),0)\n",
    "    T_dt_S_3 = -1j*dt*Om_TLS*np.tensordot(tk,np.dot(sm,tS),0)\n",
    "    T_dt_B_1 = -gamma_L*dt*np.tensordot(np.arange(1,tk.size+1)*tk,np.dot(np.array([[0,0],[0,1]]),tS),0)\n",
    "    T_dt_B_2 = -gamma_L*dt*np.tensordot(np.arange(0,tk.size)*tk,np.dot(np.array([[1,0],[0,0]]),tS),0)\n",
    "    nextstep = T_0 + T_sqdt_1 + T_sqdt_2 + T_dt_S_1 + T_dt_S_2 + T_dt_S_3 + T_dt_B_1 + T_dt_B_2\n",
    "    return(nextstep)\n",
    "\n",
    "print(\"initial excitation:\",np.einsum(\"k,k\",np.einsum(\"i,ik\",initTLS,np.array([[0,0],[0,1]])),np.conjugate(initTLS)))\n",
    "m=0\n",
    "exc2 = np.zeros(endt-3,complex)\n",
    "for m in np.arange(endt-4,0,-1):\n",
    "#    print(\"before\\n\",init[m].shape)\n",
    "#    print(init[m])\n",
    "#    print(init[m-1])\n",
    "#    print(m)\n",
    "\n",
    "    ### Determining the excitation level of the qubit ###\n",
    "    if m==endt-4:\n",
    "        exc2[m]=np.einsum(\"k,k\",np.einsum(\"i,ik\",init[m],np.array([[0,0],[0,1]])),np.conjugate(init[m]))\n",
    "    else:\n",
    "        exc2[m]=np.einsum(\"jk,kj\",np.einsum(\"ij,ik\",init[m],np.array([[0,0],[0,1]])),np.conjugate(init[m]))\n",
    "    \n",
    "    ### A time-step ###\n",
    "    # We consider up to 4 excitations in the environmental timebin (first array)\n",
    "    together = U(np.array([1,0,0,0,0]),init[m])\n",
    "#    print(\"together shape\\n\",together.shape)\n",
    "    if m==endt-4:\n",
    "        tog_swap = np.einsum(\"ij->ji\",together)\n",
    "        tog_svd  = svd(tog_swap,full_matrices=False)\n",
    "    else:\n",
    "        tog_swap = np.einsum(\"ijk->jik\",together)\n",
    "        di = tog_swap[0,:,0].size\n",
    "        dj = tog_swap[:,0,0].size\n",
    "        dk = tog_swap[0,0,:].size\n",
    "#        print(\"di=\",di,\", dk=\",dk)\n",
    "        tog_swap_conc = np.zeros((dj,di*dk),dtype=np.complex128)\n",
    "        for i in range(0,tog_swap[0,:,0].size):\n",
    "            for k in range(0,tog_swap[0,0,:].size):\n",
    "                tog_swap_conc[:,i+di*k]=tog_swap[:,i,k]\n",
    "        tog_svd_conc = svd(tog_swap_conc,full_matrices=False)\n",
    "        tog_svd = [0.+0*1j]*3\n",
    "        tog_svd[2] = np.zeros((dj,di,dk),dtype=np.complex128)\n",
    "        for I in range(0,tog_swap_conc[:,0].size):\n",
    "            tog_svd[2][:,I%di,int((I-(I%di))/di)]  = tog_svd_conc[0][:,I]\n",
    "        tog_svd[1] = tog_svd_conc[1]\n",
    "        tog_svd[0] = tog_svd_conc[0]\n",
    "\n",
    "    ### Storing the different Matrices of the timebins and system (I'm not convinced that this is necessary) ###\n",
    "    init[m] = tog_svd[2]\n",
    "#    print(\"after\\n\",init[m].shape)\n",
    "    init[m-1] = np.dot(tog_svd[0],np.diag(tog_svd[1]))\n",
    "#    print(init[m-1].shape)\n",
    "#print(init[-1])\n",
    "\n",
    "### Plotting to be happy ###\n",
    "t=np.arange(0,endt-3)*dt\n",
    "plt.plot(t,np.flip(np.real(exc2),0))\n",
    "plt.plot(t,np.exp(-2*gamma_L*t),ls=\"--\")\n",
    "plt.grid(True)\n"
   ]
  },
  {
   "cell_type": "code",
   "execution_count": null,
   "metadata": {
    "collapsed": true
   },
   "outputs": [],
   "source": []
  }
 ],
 "metadata": {
  "kernelspec": {
   "display_name": "Python [conda env:py35]",
   "language": "python",
   "name": "conda-env-py35-py"
  },
  "language_info": {
   "codemirror_mode": {
    "name": "ipython",
    "version": 3
   },
   "file_extension": ".py",
   "mimetype": "text/x-python",
   "name": "python",
   "nbconvert_exporter": "python",
   "pygments_lexer": "ipython3",
   "version": "3.5.4"
  }
 },
 "nbformat": 4,
 "nbformat_minor": 2
}
